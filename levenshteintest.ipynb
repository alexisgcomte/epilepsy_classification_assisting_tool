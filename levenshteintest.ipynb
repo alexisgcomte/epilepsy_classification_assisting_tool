{
 "metadata": {
  "language_info": {
   "codemirror_mode": {
    "name": "ipython",
    "version": 3
   },
   "file_extension": ".py",
   "mimetype": "text/x-python",
   "name": "python",
   "nbconvert_exporter": "python",
   "pygments_lexer": "ipython3",
   "version": "3.8.5-final"
  },
  "orig_nbformat": 2,
  "kernelspec": {
   "name": "python_defaultSpec_1600337035090",
   "display_name": "Python 3.8.5 64-bit ('datascience': conda)"
  }
 },
 "nbformat": 4,
 "nbformat_minor": 2,
 "cells": [
  {
   "cell_type": "code",
   "execution_count": 256,
   "metadata": {},
   "outputs": [],
   "source": [
    "import streamlit as st\n",
    "import pandas as pd\n",
    "import numpy as np\n",
    "import re\n",
    "import ast\n",
    "import glob\n",
    "from datetime import datetime\n",
    "from fuzzywuzzy import fuzz"
   ]
  },
  {
   "cell_type": "code",
   "execution_count": 257,
   "metadata": {},
   "outputs": [],
   "source": [
    "data = pd.read_csv('data/structured_reports/Sample_annotated_report_database.csv', encoding=\"iso-8859-1\")"
   ]
  },
  {
   "cell_type": "code",
   "execution_count": 154,
   "metadata": {},
   "outputs": [],
   "source": [
    "text_test = data['Patient_report'].iloc[8]"
   ]
  },
  {
   "cell_type": "code",
   "execution_count": 258,
   "metadata": {},
   "outputs": [],
   "source": [
    "text_test = data['Patient_report'].iloc[31]"
   ]
  },
  {
   "cell_type": "code",
   "execution_count": 259,
   "metadata": {},
   "outputs": [
    {
     "output_type": "execute_result",
     "data": {
      "text/plain": "'CLINICAL HISTORY:  38 year old right handed female with seizures since she was 3 years of age, now with increased seizure frequency, here for presurgical evaluation.\\n\\nMEDICATIONS:  Lorazepam, Keppra, Oxcarbazepine, Lyrica, Zonisamide.\\n\\nREASON FOR STUDY:  Seizures\\n\\nINTRODUCTION: Digital video EEG was performed in lab using standard 10-20 electrode placement system with additional anterior temporal and single-lead EKG electrodes.  The patient was recorded in wakefulness and sleep.  Activating procedures were performed including hyperventilation and photic stimulation.\\n\\nTECHNICAL DIFFICULTIES:  None.\\n\\nDESCRIPTION OF THE RECORD:  The record opens to a well-defined posterior dominant rhythm of 9 to 10 Hz, which is seen on both sides and is reactive to eye opening.  There is a normal amount of frontocentral beta.  The patient is recorded in wakefulness and stage I and stage II sleep.  Activating procedure produce no abnormal discharges.\\n\\nABNORMAL DISCHARGES:\\n1. Focal sharp waves seen at F7/T3, very frequently, and rarely at F8/T4.\\n2. Focal slow waves seen at F7/T3 at 2 to 4 Hz with an amplitude of 20 to 70 microvolts.  At times they become rhythmic and are consistent with temporal intermittent rhythmic delta activity (TIRDA).  Additionally, there are some focal slow waves infrequently seen at F8/T4 at 2 to 4 Hz at an amplitude of 20 to 70 microvolts.\\n\\nIMPRESSION:  Abnormal EEG due to:\\n1.  Frequent left anterior temporal sharp waves and slow waves with rare right anterior temporal sharp waves and slow waves.\\n\\nCLINICAL CORRELATION:  This EEG is consistent with a diagnosis of localization related epilepsy with seizures likely arising from either anterior temporal lobe.  No seizures were seen during this recording.'"
     },
     "metadata": {},
     "execution_count": 259
    }
   ],
   "source": [
    "text_test"
   ]
  },
  {
   "cell_type": "code",
   "execution_count": 260,
   "metadata": {},
   "outputs": [
    {
     "output_type": "execute_result",
     "data": {
      "text/plain": "array(['BFNE', 'EME', 'Ohtahara', 'Myoclonic encephalopathy', 'infantile',\n       'migrating focal', 'MEI', 'Dravet', 'West', 'myoclonic atonic',\n       'Gastaut type', 'CAE', 'myoclonic absences', 'Landau-Kleffner',\n       'Lennox-Gastaut', 'Panayiotopoulos', 'tonic-clonic', 'jAE',\n       'ADEAF', 'JME', 'Gelastic', 'Reflex', 'Rasmussen', 'central',\n       'supplementary motor area', 'Temporoparietal junction', 'frontal',\n       'fontral temporal', 'insular', 'multifocal', 'occipital',\n       'parietal', 'temporal lobe', 'external temporal', 'MTLE with HS',\n       'temporal occipital', 'temporal'], dtype=object)"
     },
     "metadata": {},
     "execution_count": 260
    }
   ],
   "source": [
    "tags_targets"
   ]
  },
  {
   "cell_type": "code",
   "execution_count": 261,
   "metadata": {},
   "outputs": [],
   "source": [
    "def load_tags_list():\n",
    "    data = pd.read_csv('data/parameters/tags_list.csv', encoding=\"iso-8859-1\")\n",
    "    tags_list = data['tags'].tolist()\n",
    "    return tags_list"
   ]
  },
  {
   "cell_type": "code",
   "execution_count": 262,
   "metadata": {},
   "outputs": [],
   "source": [
    "tags_list = load_tags_list()"
   ]
  },
  {
   "cell_type": "code",
   "execution_count": 263,
   "metadata": {},
   "outputs": [
    {
     "output_type": "execute_result",
     "data": {
      "text/plain": "['BFNE',\n 'EME',\n 'Ohtahara',\n 'Myoclonic encephalopathy',\n 'infantile',\n 'migrating focal',\n 'MEI',\n 'Dravet',\n 'West',\n 'myoclonic atonic',\n 'Gastaut type',\n 'CAE',\n 'myoclonic absences',\n 'Landau-Kleffner',\n 'Lennox-Gastaut',\n 'Panayiotopoulos',\n 'tonic-clonic',\n 'jAE',\n 'ADEAF',\n 'JME',\n 'Gelastic',\n 'Reflex',\n 'Rasmussen',\n 'central',\n 'supplementary motor area',\n 'Temporoparietal junction',\n 'frontal',\n 'fontral temporal',\n 'insular',\n 'multifocal',\n 'occipital',\n 'parietal',\n 'temporal lobe',\n 'external temporal',\n 'MTLE with HS',\n 'temporal occipital',\n 'temporal']"
     },
     "metadata": {},
     "execution_count": 263
    }
   ],
   "source": [
    "tags_list"
   ]
  },
  {
   "source": [
    "tags_list = pd.read_csv('data/parameters/tags_list.csv', encoding=\"iso-8859-1\")\n",
    "tags_list = tags_list['tags'].values\n",
    "tags_targets = tags_list\n",
    "print(tags_list)"
   ],
   "cell_type": "markdown",
   "metadata": {
    "tags": []
   }
  },
  {
   "cell_type": "code",
   "execution_count": 264,
   "metadata": {},
   "outputs": [],
   "source": [
    "def surline_keyword_info_extractor(text, tags_targets, threshold):\n",
    "    keyword_list = []\n",
    "    targets_list = []\n",
    "    position_list = []\n",
    "    for tag_target in tags_targets:\n",
    "        for i in text.split('.'):\n",
    "                if fuzz.partial_ratio(i.lower(), tag_target.lower()) >= threshold:\n",
    "                    for j in re.split(';|,|:| |:|-',i):\n",
    "                        # CONFIRM PARTIAL RATIO\n",
    "                        if fuzz.partial_ratio(j.lower(), tag_target.lower()) >= threshold and len(j)>4:\n",
    "                            keyword_list.append(tag_target)\n",
    "                            targets_list.append(j)\n",
    "    \n",
    "    return list(set(keyword_list)), list(set(targets_list))"
   ]
  },
  {
   "cell_type": "code",
   "execution_count": 265,
   "metadata": {
    "tags": []
   },
   "outputs": [
    {
     "output_type": "stream",
     "name": "stdout",
     "text": "['central', 'temporal lobe', 'EME', 'temporal']\n['frontocentral', 'temporal', 'placement']\n"
    }
   ],
   "source": [
    "\n",
    " keyword_list, targets_list= surline_keyword_info_extractor(text_test, tags_targets, 90)\n",
    " print(keyword_list)\n",
    " print(targets_list)"
   ]
  },
  {
   "cell_type": "code",
   "execution_count": null,
   "metadata": {},
   "outputs": [],
   "source": []
  },
  {
   "cell_type": "code",
   "execution_count": 266,
   "metadata": {},
   "outputs": [],
   "source": [
    "def levenshtein_extraction(report, tags_targets, threshold):\n",
    "    keyword_list = []\n",
    "    targets_list = []\n",
    "    position_list = []\n",
    "    for tag_target in tags_targets:\n",
    "        for i in report.split('.'):\n",
    "                if fuzz.partial_ratio(i.lower(), tag_target.lower()) >= threshold:\n",
    "                    for j in re.split(';|,|:| |:|-',i):\n",
    "                        # CONFIRM PARTIAL RATIO\n",
    "                        if fuzz.partial_ratio(j.lower(), tag_target.lower()) >= threshold and len(j)>4:\n",
    "                            keyword_list.append(tag_target)\n",
    "                            targets_list.append(j)\n",
    "    keyword_list = list(set(keyword_list))\n",
    "    targets_list = list(set(targets_list))\n",
    "    \n",
    "    return keyword_list, targets_list"
   ]
  },
  {
   "cell_type": "code",
   "execution_count": 267,
   "metadata": {
    "tags": []
   },
   "outputs": [
    {
     "output_type": "stream",
     "name": "stdout",
     "text": "['central', 'temporal lobe', 'EME', 'temporal']\n['frontocentral', 'temporal', 'placement']\n"
    }
   ],
   "source": [
    "keyword_list, targets_list = levenshtein_extraction(text_test, tags_list, 90)\n",
    "print(keyword_list)\n",
    "print(targets_list)"
   ]
  },
  {
   "cell_type": "code",
   "execution_count": 268,
   "metadata": {},
   "outputs": [],
   "source": [
    "def create_highlighted_markdown_text(report, tags_list):\n",
    "    #try :\n",
    "    # Initialization and parameters\n",
    "\n",
    "    # TO DELETE\n",
    "\n",
    "   # if pd.isnull(highlighted_information):\n",
    "   #     report = re.sub(\"\\n\", \"<br>\", report)\n",
    "   #     return report\n",
    "\n",
    "    # Creating a dataset of the elements to highlight\n",
    "    #df_highlighted_batch = pd.DataFrame(columns=['word','coordinates'])\n",
    "\n",
    "   # for highlighted_info in ast.literal_eval(highlighted_information):\n",
    "   #     words = highlighted_info[0]\n",
    "   #     index = highlighted_info[1]\n",
    "   #     for i in range(len(words)):\n",
    "  #          df_highlighted_batch = df_highlighted_batch.append({'word':words[i], 'coordinates':index[i]}, ignore_index=True)\n",
    "   # df_highlighted_batch.sort_values(by=\"coordinates\", inplace=True) # for highlighting in order of position\n",
    "\n",
    "    # Updating the report\n",
    "    #for i in range(df_highlighted_batch.shape[0]):\n",
    "     #   word = df_highlighted_batch['word'].iloc[i]\n",
    "      #  index = df_highlighted_batch['coordinates'].iloc[i]\n",
    "\n",
    "     #   decorate_word = html_decorate_text(word, background_color=\"#FFFF00\")\n",
    "     #   report = report[:index + shift] + decorate_word + report[len(report[:index + shift] + word):]\n",
    "     #   shift += len(decorate_word) - len(word)\n",
    "    #n = df_highlighted_batch.shape[0]\n",
    "    #for i in range(n):\n",
    "    #    word = df_highlighted_batch['word'].iloc[n-i-1]\n",
    "    #    index = df_highlighted_batch['coordinates'].iloc[n-i-1]\n",
    "    #    decorate_word = html_decorate_text(word, background_color=\"#FFFF00\")\n",
    "    #    report = report[:index] + decorate_word + report[len(report[:index] + word):]\n",
    "\n",
    "    # changing for regex\n",
    "     #word_list =  df_highlighted_batch['word'].unique()\n",
    "     #word_list.sort()    \n",
    "    # To prevent double <>\n",
    "     #for word in word_list:\n",
    "       #   decorate_word = html_decorate_text(word, background_color=\"#FFFF00\")\n",
    "        # report = re.sub(' '+word+' ', ' '+decorate_word+' ', report) \n",
    "\n",
    "\n",
    "    # Keep newline in the markdown report\n",
    "\n",
    "    keyword_list, targets_list = levenshtein_extraction(report, tags_list, 90)\n",
    "    #testing\n",
    "    report = neutral_tags_addition(report, targets_list)\n",
    "\n",
    "    for word in targets_list:\n",
    "        decorate_word = html_decorate_text(word, background_color=\"#FFFF00\")\n",
    "        report = re.sub(' '+word+' ', ' '+decorate_word+' ', report) \n",
    "\n",
    "    report = re.sub(\"\\n\", \"<br>\", report)\n",
    "    report = bolded_tagged_sentenced(report)\n",
    "    \n",
    "    return report"
   ]
  },
  {
   "cell_type": "code",
   "execution_count": 269,
   "metadata": {},
   "outputs": [
    {
     "output_type": "execute_result",
     "data": {
      "text/plain": "['BFNE',\n 'EME',\n 'Ohtahara',\n 'Myoclonic encephalopathy',\n 'infantile',\n 'migrating focal',\n 'MEI',\n 'Dravet',\n 'West',\n 'myoclonic atonic',\n 'Gastaut type',\n 'CAE',\n 'myoclonic absences',\n 'Landau-Kleffner',\n 'Lennox-Gastaut',\n 'Panayiotopoulos',\n 'tonic-clonic',\n 'jAE',\n 'ADEAF',\n 'JME',\n 'Gelastic',\n 'Reflex',\n 'Rasmussen',\n 'central',\n 'supplementary motor area',\n 'Temporoparietal junction',\n 'frontal',\n 'fontral temporal',\n 'insular',\n 'multifocal',\n 'occipital',\n 'parietal',\n 'temporal lobe',\n 'external temporal',\n 'MTLE with HS',\n 'temporal occipital',\n 'temporal']"
     },
     "metadata": {},
     "execution_count": 269
    }
   ],
   "source": [
    "tags_list"
   ]
  },
  {
   "cell_type": "code",
   "execution_count": 186,
   "metadata": {},
   "outputs": [],
   "source": [
    "def neutral_tags_addition(report, neutral_tags_list):\n",
    "    updated_report = report\n",
    "    for neutral_tags in neutral_tags_list:\n",
    "        search = neutral_tags\n",
    "        updated_report = re.sub(search, html_decorate_text(neutral_tags, background_color='#00ecff'), updated_report)\n",
    "     \n",
    "        #search = '(\\w*)?({})\\w*'.format(neutral_tags)\n",
    "        #updated_report = re.sub(neutral_tags, html_decorate_text(neutral_tags, background_color='#00ecff'), updated_report)\n",
    "\n",
    "      # with capital letter\n",
    "        #maj_neutral_tags = str(neutral_tags[:1].upper()+neutral_tags[1:])\n",
    "        #search = maj_neutral_tags\n",
    "        #search = '\\w*({})\\w*'.format(maj_neutral_tags)\n",
    "        #updated_report = re.sub(search, html_decorate_text(neutral_tags, background_color='#00ecff'), updated_report)\n",
    "    return updated_report"
   ]
  },
  {
   "cell_type": "code",
   "execution_count": 270,
   "metadata": {},
   "outputs": [
    {
     "output_type": "execute_result",
     "data": {
      "text/plain": "        Exam_name  Patient_name  \\\n0   00000006_s004             6   \n1   00000006_s004             6   \n2   00000006_s004             6   \n3   00000006_s005             6   \n4   00000006_s006             6   \n5   00000006_s006             6   \n6   00000006_s006             6   \n7   00000258_s001           258   \n8   00000258_s002           258   \n9   00000258_s002           258   \n10  00000258_s003           258   \n11  00000258_s003           258   \n12  00000258_s003           258   \n13  00000258_s003           258   \n14  00000258_s003           258   \n15  00000258_s003           258   \n16  00000258_s004           258   \n17  00002051_s001          2051   \n18  00002056_s002          2056   \n19  00002289_s001          2289   \n20  00002289_s002          2289   \n21  00002289_s003          2289   \n22  00002289_s003          2289   \n23  00002289_s003          2289   \n24  00002289_s003          2289   \n25  00002289_s003          2289   \n26  00002289_s003          2289   \n27  00002289_s003          2289   \n28  00002289_s003          2289   \n29  00002289_s003          2289   \n30  00002289_s003          2289   \n31  00002289_s003          2289   \n32  00002289_s003          2289   \n33  00002289_s003          2289   \n34  00002289_s004          2289   \n35  00002289_s004          2289   \n36  00002289_s004          2289   \n37  00002289_s004          2289   \n38  00002289_s004          2289   \n39  00002289_s005          2289   \n40  00002289_s005          2289   \n41  00002289_s005          2289   \n42  00002289_s005          2289   \n43  00002289_s005          2289   \n44  00002289_s005          2289   \n45  00002289_s007          2289   \n46  00002289_s007          2289   \n47  00002289_s007          2289   \n48  00002289_s007          2289   \n49  00002289_s007          2289   \n50  00002289_s008          2289   \n51  00002289_s008          2289   \n52  00002289_s008          2289   \n53  00002289_s009          2289   \n54  00002289_s009          2289   \n55  00002289_s009          2289   \n56  00008204_s001          8204   \n57  00010247_s001         10247   \n\n                               Patient_infos_filepath  Quality_score  \\\n0   ./../TU_EEG_Seizures_processed/v0_4/info-patie...       0.000000   \n1   ./../TU_EEG_Seizures_processed/v0_4/info-patie...       0.000000   \n2   ./../TU_EEG_Seizures_processed/v0_4/info-patie...       0.000000   \n3   ./../TU_EEG_Seizures_processed/v0_4/info-patie...       0.000000   \n4   ./../TU_EEG_Seizures_processed/v0_4/info-patie...       0.000000   \n5   ./../TU_EEG_Seizures_processed/v0_4/info-patie...       0.000000   \n6   ./../TU_EEG_Seizures_processed/v0_4/info-patie...       0.000000   \n7   ./../TU_EEG_Seizures_processed/v0_4/info-patie...       0.999340   \n8   ./../TU_EEG_Seizures_processed/v0_4/info-patie...       0.852459   \n9   ./../TU_EEG_Seizures_processed/v0_4/info-patie...       0.374269   \n10  ./../TU_EEG_Seizures_processed/v0_4/info-patie...       0.445428   \n11  ./../TU_EEG_Seizures_processed/v0_4/info-patie...       0.319588   \n12  ./../TU_EEG_Seizures_processed/v0_4/info-patie...       0.477306   \n13  ./../TU_EEG_Seizures_processed/v0_4/info-patie...       0.500813   \n14  ./../TU_EEG_Seizures_processed/v0_4/info-patie...       0.564516   \n15  ./../TU_EEG_Seizures_processed/v0_4/info-patie...       0.697819   \n16  ./../TU_EEG_Seizures_processed/v0_4/info-patie...       0.997801   \n17  ./../TU_EEG_Seizures_processed/v0_4/info-patie...       1.000000   \n18  ./../TU_EEG_Seizures_processed/v0_4/info-patie...       0.999336   \n19  ./../TU_EEG_Seizures_processed/v0_4/info-patie...       0.997375   \n20  ./../TU_EEG_Seizures_processed/v0_4/info-patie...       0.991387   \n21  ./../TU_EEG_Seizures_processed/v0_4/info-patie...       0.802548   \n22  ./../TU_EEG_Seizures_processed/v0_4/info-patie...       0.882273   \n23  ./../TU_EEG_Seizures_processed/v0_4/info-patie...       0.947891   \n24  ./../TU_EEG_Seizures_processed/v0_4/info-patie...       0.937001   \n25  ./../TU_EEG_Seizures_processed/v0_4/info-patie...       0.884058   \n26  ./../TU_EEG_Seizures_processed/v0_4/info-patie...       0.701145   \n27  ./../TU_EEG_Seizures_processed/v0_4/info-patie...       0.990168   \n28  ./../TU_EEG_Seizures_processed/v0_4/info-patie...       0.650485   \n29  ./../TU_EEG_Seizures_processed/v0_4/info-patie...       0.945925   \n30  ./../TU_EEG_Seizures_processed/v0_4/info-patie...       0.955224   \n31  ./../TU_EEG_Seizures_processed/v0_4/info-patie...       0.857578   \n32  ./../TU_EEG_Seizures_processed/v0_4/info-patie...       0.673913   \n33  ./../TU_EEG_Seizures_processed/v0_4/info-patie...       0.953521   \n34  ./../TU_EEG_Seizures_processed/v0_4/info-patie...       0.902840   \n35  ./../TU_EEG_Seizures_processed/v0_4/info-patie...       0.816327   \n36  ./../TU_EEG_Seizures_processed/v0_4/info-patie...       0.866906   \n37  ./../TU_EEG_Seizures_processed/v0_4/info-patie...       0.955789   \n38  ./../TU_EEG_Seizures_processed/v0_4/info-patie...       0.903752   \n39  ./../TU_EEG_Seizures_processed/v0_4/info-patie...       0.884211   \n40  ./../TU_EEG_Seizures_processed/v0_4/info-patie...       0.904192   \n41  ./../TU_EEG_Seizures_processed/v0_4/info-patie...       0.910663   \n42  ./../TU_EEG_Seizures_processed/v0_4/info-patie...       0.968460   \n43  ./../TU_EEG_Seizures_processed/v0_4/info-patie...       0.958242   \n44  ./../TU_EEG_Seizures_processed/v0_4/info-patie...       0.739191   \n45  ./../TU_EEG_Seizures_processed/v0_4/info-patie...       0.977118   \n46  ./../TU_EEG_Seizures_processed/v0_4/info-patie...       0.953846   \n47  ./../TU_EEG_Seizures_processed/v0_4/info-patie...       0.911585   \n48  ./../TU_EEG_Seizures_processed/v0_4/info-patie...       0.979516   \n49  ./../TU_EEG_Seizures_processed/v0_4/info-patie...       0.976471   \n50  ./../TU_EEG_Seizures_processed/v0_4/info-patie...       0.641509   \n51  ./../TU_EEG_Seizures_processed/v0_4/info-patie...       0.828571   \n52  ./../TU_EEG_Seizures_processed/v0_4/info-patie...       0.902473   \n53  ./../TU_EEG_Seizures_processed/v0_4/info-patie...       0.998605   \n54  ./../TU_EEG_Seizures_processed/v0_4/info-patie...       0.979592   \n55  ./../TU_EEG_Seizures_processed/v0_4/info-patie...       0.924761   \n56  ./../TU_EEG_Seizures_processed/v0_4/info-patie...       0.970911   \n57  ./../TU_EEG_Seizures_processed/v0_4/info-patie...       0.999527   \n\n    Exam_duration  Nb_Seizures      Recording_name  \\\n0               0            0  00000006_s004_t000   \n1               0            0  00000006_s004_t001   \n2               0            0  00000006_s004_t002   \n3               0            1  00000006_s005_t000   \n4               0            0  00000006_s006_t000   \n5               0            0  00000006_s006_t001   \n6               0            0  00000006_s006_t002   \n7            1750            6  00000258_s001_t000   \n8              20            0  00000258_s002_t000   \n9             272            0  00000258_s002_t002   \n10            234            0  00000258_s003_t000   \n11            224            0  00000258_s003_t001   \n12            203            1  00000258_s003_t002   \n13            205            1  00000258_s003_t003   \n14            175            1  00000258_s003_t004   \n15            309            1  00000258_s003_t005   \n16           1297            4  00000258_s004_t000   \n17           1262            0  00002051_s001_t001   \n18           1190            0  00002056_s002_t002   \n19           1397            0  00002289_s001_t000   \n20           1327            0  00002289_s002_t000   \n21            300            0  00002289_s003_t000   \n22            659            0  00002289_s003_t001   \n23            201            0  00002289_s003_t003   \n24            601            0  00002289_s003_t004   \n25            300            0  00002289_s003_t005   \n26           1241            0  00002289_s003_t006   \n27            999            0  00002289_s003_t007   \n28            300            0  00002289_s003_t008   \n29            601            0  00002289_s003_t009   \n30            300            0  00002289_s003_t010   \n31            601            0  00002289_s003_t011   \n32            300            0  00002289_s003_t012   \n33            601            0  00002289_s003_t013   \n34            300            0  00002289_s004_t000   \n35            300            0  00002289_s004_t005   \n36            300            0  00002289_s004_t006   \n37            300            0  00002289_s004_t010   \n38            300            0  00002289_s004_t011   \n39            300            0  00002289_s005_t000   \n40            672            0  00002289_s005_t001   \n41            300            0  00002289_s005_t002   \n42            300            0  00002289_s005_t003   \n43            300            0  00002289_s005_t004   \n44            300            0  00002289_s005_t005   \n45            701            0  00002289_s007_t000   \n46            300            0  00002289_s007_t001   \n47            300            0  00002289_s007_t002   \n48            300            0  00002289_s007_t003   \n49            300            0  00002289_s007_t004   \n50             34            0  00002289_s008_t000   \n51            115            0  00002289_s008_t001   \n52            539            0  00002289_s008_t002   \n53            653            0  00002289_s009_t000   \n54            235            0  00002289_s009_t002   \n55            595            0  00002289_s009_t003   \n56           1401            3  00008204_s001_t000   \n57           1344            0  00010247_s001_t000   \n\n                                       Patient_report  \\\n0   Long-Term Monitoring, February 2, 2007 to Febr...   \n1   Long-Term Monitoring, February 2, 2007 to Febr...   \n2   Long-Term Monitoring, February 2, 2007 to Febr...   \n3   Long-Term Monitoring, February 2, 2007 to Febr...   \n4   Long-Term Monitoring, February 2, 2007 to Febr...   \n5   Long-Term Monitoring, February 2, 2007 to Febr...   \n6   Long-Term Monitoring, February 2, 2007 to Febr...   \n7   CLINICAL HISTORY: This is a 41-year-old male w...   \n8   CLINICAL HISTORY: This is a 41-year-old male w...   \n9   CLINICAL HISTORY: This is a 41-year-old male w...   \n10  CLINICAL HISTORY: This is a 41-year-old male w...   \n11  CLINICAL HISTORY: This is a 41-year-old male w...   \n12  CLINICAL HISTORY: This is a 41-year-old male w...   \n13  CLINICAL HISTORY: This is a 41-year-old male w...   \n14  CLINICAL HISTORY: This is a 41-year-old male w...   \n15  CLINICAL HISTORY: This is a 41-year-old male w...   \n16  CLINICAL HISTORY: This is a 41-year-old male w...   \n17  CLINICAL HISTORY: This is a 29-year-old, menta...   \n18  CLINICAL HISTORY: This is a 16-year-old female...   \n19  CLINICAL HISTORY: This is a 31-year-old woman ...   \n20  CLINICAL HISTORY:  38 year old right handed fe...   \n21  CLINICAL HISTORY:  38 year old right handed fe...   \n22  CLINICAL HISTORY:  38 year old right handed fe...   \n23  CLINICAL HISTORY:  38 year old right handed fe...   \n24  CLINICAL HISTORY:  38 year old right handed fe...   \n25  CLINICAL HISTORY:  38 year old right handed fe...   \n26  CLINICAL HISTORY:  38 year old right handed fe...   \n27  CLINICAL HISTORY:  38 year old right handed fe...   \n28  CLINICAL HISTORY:  38 year old right handed fe...   \n29  CLINICAL HISTORY:  38 year old right handed fe...   \n30  CLINICAL HISTORY:  38 year old right handed fe...   \n31  CLINICAL HISTORY:  38 year old right handed fe...   \n32  CLINICAL HISTORY:  38 year old right handed fe...   \n33  CLINICAL HISTORY:  38 year old right handed fe...   \n34  CLINICAL HISTORY:  Seizures day 2.\\nMEDICATION...   \n35  CLINICAL HISTORY:  Seizures day 2.\\nMEDICATION...   \n36  CLINICAL HISTORY:  Seizures day 2.\\nMEDICATION...   \n37  CLINICAL HISTORY:  Seizures day 2.\\nMEDICATION...   \n38  CLINICAL HISTORY:  Seizures day 2.\\nMEDICATION...   \n39  CLINICAL HISTORY:\\nMEDICATIONS:\\nINTRODUCTION:...   \n40  CLINICAL HISTORY:\\nMEDICATIONS:\\nINTRODUCTION:...   \n41  CLINICAL HISTORY:\\nMEDICATIONS:\\nINTRODUCTION:...   \n42  CLINICAL HISTORY:\\nMEDICATIONS:\\nINTRODUCTION:...   \n43  CLINICAL HISTORY:\\nMEDICATIONS:\\nINTRODUCTION:...   \n44  CLINICAL HISTORY:\\nMEDICATIONS:\\nINTRODUCTION:...   \n45  CLINICAL HISTORY:\\nMEDICATIONS:\\nINTRODUCTION:...   \n46  CLINICAL HISTORY:\\nMEDICATIONS:\\nINTRODUCTION:...   \n47  CLINICAL HISTORY:\\nMEDICATIONS:\\nINTRODUCTION:...   \n48  CLINICAL HISTORY:\\nMEDICATIONS:\\nINTRODUCTION:...   \n49  CLINICAL HISTORY:\\nMEDICATIONS:\\nINTRODUCTION:...   \n50  CLINICAL HISTORY:\\nMEDICATIONS:\\nINTRODUCTION:...   \n51  CLINICAL HISTORY:\\nMEDICATIONS:\\nINTRODUCTION:...   \n52  CLINICAL HISTORY:\\nMEDICATIONS:\\nINTRODUCTION:...   \n53  CLINICAL HISTORY:\\nMEDICATIONS:\\nINTRODUCTION:...   \n54  CLINICAL HISTORY:\\nMEDICATIONS:\\nINTRODUCTION:...   \n55  CLINICAL HISTORY:\\nMEDICATIONS:\\nINTRODUCTION:...   \n56  CLINICAL HISTORY:   60 year old right handed w...   \n57  CLINICAL HISTORY:  A 50-year-old male with sei...   \n\n                                Tags        Seizure_type  \\\n0                                NaN                 NaN   \n1                                NaN                 NaN   \n2                                NaN                 NaN   \n3                                NaN                 NaN   \n4                                NaN                 NaN   \n5                                NaN                 NaN   \n6                                NaN                 NaN   \n7                                NaN                 NaN   \n8             tonic-clonic, temporal  Generalized, focal   \n9             tonic-clonic, temporal  Generalized, focal   \n10            tonic-clonic, temporal  Generalized, focal   \n11            tonic-clonic, temporal  Generalized, focal   \n12            tonic-clonic, temporal  Generalized, focal   \n13            tonic-clonic, temporal  Generalized, focal   \n14            tonic-clonic, temporal  Generalized, focal   \n15            tonic-clonic, temporal  Generalized, focal   \n16                               NaN                 NaN   \n17                               NaN                 NaN   \n18                               NaN                 NaN   \n19                               NaN                 NaN   \n20  temporal lobe, central, temporal  Generalized, focal   \n21  temporal lobe, central, temporal  Generalized, focal   \n22  temporal lobe, central, temporal  Generalized, focal   \n23  temporal lobe, central, temporal  Generalized, focal   \n24  temporal lobe, central, temporal  Generalized, focal   \n25  temporal lobe, central, temporal  Generalized, focal   \n26  temporal lobe, central, temporal  Generalized, focal   \n27  temporal lobe, central, temporal  Generalized, focal   \n28  temporal lobe, central, temporal  Generalized, focal   \n29  temporal lobe, central, temporal  Generalized, focal   \n30  temporal lobe, central, temporal  Generalized, focal   \n31  temporal lobe, central, temporal  Generalized, focal   \n32  temporal lobe, central, temporal  Generalized, focal   \n33  temporal lobe, central, temporal  Generalized, focal   \n34                               NaN                 NaN   \n35                               NaN                 NaN   \n36                               NaN                 NaN   \n37                               NaN                 NaN   \n38                               NaN                 NaN   \n39                               NaN                 NaN   \n40                               NaN                 NaN   \n41                               NaN                 NaN   \n42                               NaN                 NaN   \n43                               NaN                 NaN   \n44                               NaN                 NaN   \n45                               NaN                 NaN   \n46                               NaN                 NaN   \n47                               NaN                 NaN   \n48                               NaN                 NaN   \n49                               NaN                 NaN   \n50                               NaN                 NaN   \n51                               NaN                 NaN   \n52                               NaN                 NaN   \n53                               NaN                 NaN   \n54                               NaN                 NaN   \n55                               NaN                 NaN   \n56                               NaN                 NaN   \n57                               NaN                 NaN   \n\n                                     Highlighted_data  \n0                                                 NaN  \n1                                                 NaN  \n2                                                 NaN  \n3                                                 NaN  \n4                                                 NaN  \n5                                                 NaN  \n6                                                 NaN  \n7                                                 NaN  \n8   [(['tonic-clonic'], [2061]), (['temporal'], [2...  \n9   [(['tonic-clonic'], [2061]), (['temporal'], [2...  \n10  [(['tonic-clonic', 'tonic-clonic'], [787, 1519...  \n11  [(['tonic-clonic', 'tonic-clonic'], [787, 1519...  \n12  [(['tonic-clonic', 'tonic-clonic'], [787, 1519...  \n13  [(['tonic-clonic', 'tonic-clonic'], [787, 1519...  \n14  [(['tonic-clonic', 'tonic-clonic'], [787, 1519...  \n15  [(['tonic-clonic', 'tonic-clonic'], [787, 1519...  \n16                                                NaN  \n17                                                NaN  \n18                                                NaN  \n19                                                NaN  \n20  [(['frontocentral'], [794]), (['temporal', 'te...  \n21  [(['frontocentral'], [799]), (['temporal', 'te...  \n22  [(['frontocentral'], [799]), (['temporal', 'te...  \n23  [(['frontocentral'], [799]), (['temporal', 'te...  \n24  [(['frontocentral'], [799]), (['temporal', 'te...  \n25  [(['frontocentral'], [799]), (['temporal', 'te...  \n26  [(['frontocentral'], [799]), (['temporal', 'te...  \n27  [(['frontocentral'], [799]), (['temporal', 'te...  \n28  [(['frontocentral'], [799]), (['temporal', 'te...  \n29  [(['frontocentral'], [799]), (['temporal', 'te...  \n30  [(['frontocentral'], [799]), (['temporal', 'te...  \n31  [(['frontocentral'], [799]), (['temporal', 'te...  \n32  [(['frontocentral'], [799]), (['temporal', 'te...  \n33  [(['frontocentral'], [799]), (['temporal', 'te...  \n34                                                NaN  \n35                                                NaN  \n36                                                NaN  \n37                                                NaN  \n38                                                NaN  \n39                                                NaN  \n40                                                NaN  \n41                                                NaN  \n42                                                NaN  \n43                                                NaN  \n44                                                NaN  \n45                                                NaN  \n46                                                NaN  \n47                                                NaN  \n48                                                NaN  \n49                                                NaN  \n50                                                NaN  \n51                                                NaN  \n52                                                NaN  \n53                                                NaN  \n54                                                NaN  \n55                                                NaN  \n56                                                NaN  \n57                                                NaN  ",
      "text/html": "<div>\n<style scoped>\n    .dataframe tbody tr th:only-of-type {\n        vertical-align: middle;\n    }\n\n    .dataframe tbody tr th {\n        vertical-align: top;\n    }\n\n    .dataframe thead th {\n        text-align: right;\n    }\n</style>\n<table border=\"1\" class=\"dataframe\">\n  <thead>\n    <tr style=\"text-align: right;\">\n      <th></th>\n      <th>Exam_name</th>\n      <th>Patient_name</th>\n      <th>Patient_infos_filepath</th>\n      <th>Quality_score</th>\n      <th>Exam_duration</th>\n      <th>Nb_Seizures</th>\n      <th>Recording_name</th>\n      <th>Patient_report</th>\n      <th>Tags</th>\n      <th>Seizure_type</th>\n      <th>Highlighted_data</th>\n    </tr>\n  </thead>\n  <tbody>\n    <tr>\n      <th>0</th>\n      <td>00000006_s004</td>\n      <td>6</td>\n      <td>./../TU_EEG_Seizures_processed/v0_4/info-patie...</td>\n      <td>0.000000</td>\n      <td>0</td>\n      <td>0</td>\n      <td>00000006_s004_t000</td>\n      <td>Long-Term Monitoring, February 2, 2007 to Febr...</td>\n      <td>NaN</td>\n      <td>NaN</td>\n      <td>NaN</td>\n    </tr>\n    <tr>\n      <th>1</th>\n      <td>00000006_s004</td>\n      <td>6</td>\n      <td>./../TU_EEG_Seizures_processed/v0_4/info-patie...</td>\n      <td>0.000000</td>\n      <td>0</td>\n      <td>0</td>\n      <td>00000006_s004_t001</td>\n      <td>Long-Term Monitoring, February 2, 2007 to Febr...</td>\n      <td>NaN</td>\n      <td>NaN</td>\n      <td>NaN</td>\n    </tr>\n    <tr>\n      <th>2</th>\n      <td>00000006_s004</td>\n      <td>6</td>\n      <td>./../TU_EEG_Seizures_processed/v0_4/info-patie...</td>\n      <td>0.000000</td>\n      <td>0</td>\n      <td>0</td>\n      <td>00000006_s004_t002</td>\n      <td>Long-Term Monitoring, February 2, 2007 to Febr...</td>\n      <td>NaN</td>\n      <td>NaN</td>\n      <td>NaN</td>\n    </tr>\n    <tr>\n      <th>3</th>\n      <td>00000006_s005</td>\n      <td>6</td>\n      <td>./../TU_EEG_Seizures_processed/v0_4/info-patie...</td>\n      <td>0.000000</td>\n      <td>0</td>\n      <td>1</td>\n      <td>00000006_s005_t000</td>\n      <td>Long-Term Monitoring, February 2, 2007 to Febr...</td>\n      <td>NaN</td>\n      <td>NaN</td>\n      <td>NaN</td>\n    </tr>\n    <tr>\n      <th>4</th>\n      <td>00000006_s006</td>\n      <td>6</td>\n      <td>./../TU_EEG_Seizures_processed/v0_4/info-patie...</td>\n      <td>0.000000</td>\n      <td>0</td>\n      <td>0</td>\n      <td>00000006_s006_t000</td>\n      <td>Long-Term Monitoring, February 2, 2007 to Febr...</td>\n      <td>NaN</td>\n      <td>NaN</td>\n      <td>NaN</td>\n    </tr>\n    <tr>\n      <th>5</th>\n      <td>00000006_s006</td>\n      <td>6</td>\n      <td>./../TU_EEG_Seizures_processed/v0_4/info-patie...</td>\n      <td>0.000000</td>\n      <td>0</td>\n      <td>0</td>\n      <td>00000006_s006_t001</td>\n      <td>Long-Term Monitoring, February 2, 2007 to Febr...</td>\n      <td>NaN</td>\n      <td>NaN</td>\n      <td>NaN</td>\n    </tr>\n    <tr>\n      <th>6</th>\n      <td>00000006_s006</td>\n      <td>6</td>\n      <td>./../TU_EEG_Seizures_processed/v0_4/info-patie...</td>\n      <td>0.000000</td>\n      <td>0</td>\n      <td>0</td>\n      <td>00000006_s006_t002</td>\n      <td>Long-Term Monitoring, February 2, 2007 to Febr...</td>\n      <td>NaN</td>\n      <td>NaN</td>\n      <td>NaN</td>\n    </tr>\n    <tr>\n      <th>7</th>\n      <td>00000258_s001</td>\n      <td>258</td>\n      <td>./../TU_EEG_Seizures_processed/v0_4/info-patie...</td>\n      <td>0.999340</td>\n      <td>1750</td>\n      <td>6</td>\n      <td>00000258_s001_t000</td>\n      <td>CLINICAL HISTORY: This is a 41-year-old male w...</td>\n      <td>NaN</td>\n      <td>NaN</td>\n      <td>NaN</td>\n    </tr>\n    <tr>\n      <th>8</th>\n      <td>00000258_s002</td>\n      <td>258</td>\n      <td>./../TU_EEG_Seizures_processed/v0_4/info-patie...</td>\n      <td>0.852459</td>\n      <td>20</td>\n      <td>0</td>\n      <td>00000258_s002_t000</td>\n      <td>CLINICAL HISTORY: This is a 41-year-old male w...</td>\n      <td>tonic-clonic, temporal</td>\n      <td>Generalized, focal</td>\n      <td>[(['tonic-clonic'], [2061]), (['temporal'], [2...</td>\n    </tr>\n    <tr>\n      <th>9</th>\n      <td>00000258_s002</td>\n      <td>258</td>\n      <td>./../TU_EEG_Seizures_processed/v0_4/info-patie...</td>\n      <td>0.374269</td>\n      <td>272</td>\n      <td>0</td>\n      <td>00000258_s002_t002</td>\n      <td>CLINICAL HISTORY: This is a 41-year-old male w...</td>\n      <td>tonic-clonic, temporal</td>\n      <td>Generalized, focal</td>\n      <td>[(['tonic-clonic'], [2061]), (['temporal'], [2...</td>\n    </tr>\n    <tr>\n      <th>10</th>\n      <td>00000258_s003</td>\n      <td>258</td>\n      <td>./../TU_EEG_Seizures_processed/v0_4/info-patie...</td>\n      <td>0.445428</td>\n      <td>234</td>\n      <td>0</td>\n      <td>00000258_s003_t000</td>\n      <td>CLINICAL HISTORY: This is a 41-year-old male w...</td>\n      <td>tonic-clonic, temporal</td>\n      <td>Generalized, focal</td>\n      <td>[(['tonic-clonic', 'tonic-clonic'], [787, 1519...</td>\n    </tr>\n    <tr>\n      <th>11</th>\n      <td>00000258_s003</td>\n      <td>258</td>\n      <td>./../TU_EEG_Seizures_processed/v0_4/info-patie...</td>\n      <td>0.319588</td>\n      <td>224</td>\n      <td>0</td>\n      <td>00000258_s003_t001</td>\n      <td>CLINICAL HISTORY: This is a 41-year-old male w...</td>\n      <td>tonic-clonic, temporal</td>\n      <td>Generalized, focal</td>\n      <td>[(['tonic-clonic', 'tonic-clonic'], [787, 1519...</td>\n    </tr>\n    <tr>\n      <th>12</th>\n      <td>00000258_s003</td>\n      <td>258</td>\n      <td>./../TU_EEG_Seizures_processed/v0_4/info-patie...</td>\n      <td>0.477306</td>\n      <td>203</td>\n      <td>1</td>\n      <td>00000258_s003_t002</td>\n      <td>CLINICAL HISTORY: This is a 41-year-old male w...</td>\n      <td>tonic-clonic, temporal</td>\n      <td>Generalized, focal</td>\n      <td>[(['tonic-clonic', 'tonic-clonic'], [787, 1519...</td>\n    </tr>\n    <tr>\n      <th>13</th>\n      <td>00000258_s003</td>\n      <td>258</td>\n      <td>./../TU_EEG_Seizures_processed/v0_4/info-patie...</td>\n      <td>0.500813</td>\n      <td>205</td>\n      <td>1</td>\n      <td>00000258_s003_t003</td>\n      <td>CLINICAL HISTORY: This is a 41-year-old male w...</td>\n      <td>tonic-clonic, temporal</td>\n      <td>Generalized, focal</td>\n      <td>[(['tonic-clonic', 'tonic-clonic'], [787, 1519...</td>\n    </tr>\n    <tr>\n      <th>14</th>\n      <td>00000258_s003</td>\n      <td>258</td>\n      <td>./../TU_EEG_Seizures_processed/v0_4/info-patie...</td>\n      <td>0.564516</td>\n      <td>175</td>\n      <td>1</td>\n      <td>00000258_s003_t004</td>\n      <td>CLINICAL HISTORY: This is a 41-year-old male w...</td>\n      <td>tonic-clonic, temporal</td>\n      <td>Generalized, focal</td>\n      <td>[(['tonic-clonic', 'tonic-clonic'], [787, 1519...</td>\n    </tr>\n    <tr>\n      <th>15</th>\n      <td>00000258_s003</td>\n      <td>258</td>\n      <td>./../TU_EEG_Seizures_processed/v0_4/info-patie...</td>\n      <td>0.697819</td>\n      <td>309</td>\n      <td>1</td>\n      <td>00000258_s003_t005</td>\n      <td>CLINICAL HISTORY: This is a 41-year-old male w...</td>\n      <td>tonic-clonic, temporal</td>\n      <td>Generalized, focal</td>\n      <td>[(['tonic-clonic', 'tonic-clonic'], [787, 1519...</td>\n    </tr>\n    <tr>\n      <th>16</th>\n      <td>00000258_s004</td>\n      <td>258</td>\n      <td>./../TU_EEG_Seizures_processed/v0_4/info-patie...</td>\n      <td>0.997801</td>\n      <td>1297</td>\n      <td>4</td>\n      <td>00000258_s004_t000</td>\n      <td>CLINICAL HISTORY: This is a 41-year-old male w...</td>\n      <td>NaN</td>\n      <td>NaN</td>\n      <td>NaN</td>\n    </tr>\n    <tr>\n      <th>17</th>\n      <td>00002051_s001</td>\n      <td>2051</td>\n      <td>./../TU_EEG_Seizures_processed/v0_4/info-patie...</td>\n      <td>1.000000</td>\n      <td>1262</td>\n      <td>0</td>\n      <td>00002051_s001_t001</td>\n      <td>CLINICAL HISTORY: This is a 29-year-old, menta...</td>\n      <td>NaN</td>\n      <td>NaN</td>\n      <td>NaN</td>\n    </tr>\n    <tr>\n      <th>18</th>\n      <td>00002056_s002</td>\n      <td>2056</td>\n      <td>./../TU_EEG_Seizures_processed/v0_4/info-patie...</td>\n      <td>0.999336</td>\n      <td>1190</td>\n      <td>0</td>\n      <td>00002056_s002_t002</td>\n      <td>CLINICAL HISTORY: This is a 16-year-old female...</td>\n      <td>NaN</td>\n      <td>NaN</td>\n      <td>NaN</td>\n    </tr>\n    <tr>\n      <th>19</th>\n      <td>00002289_s001</td>\n      <td>2289</td>\n      <td>./../TU_EEG_Seizures_processed/v0_4/info-patie...</td>\n      <td>0.997375</td>\n      <td>1397</td>\n      <td>0</td>\n      <td>00002289_s001_t000</td>\n      <td>CLINICAL HISTORY: This is a 31-year-old woman ...</td>\n      <td>NaN</td>\n      <td>NaN</td>\n      <td>NaN</td>\n    </tr>\n    <tr>\n      <th>20</th>\n      <td>00002289_s002</td>\n      <td>2289</td>\n      <td>./../TU_EEG_Seizures_processed/v0_4/info-patie...</td>\n      <td>0.991387</td>\n      <td>1327</td>\n      <td>0</td>\n      <td>00002289_s002_t000</td>\n      <td>CLINICAL HISTORY:  38 year old right handed fe...</td>\n      <td>temporal lobe, central, temporal</td>\n      <td>Generalized, focal</td>\n      <td>[(['frontocentral'], [794]), (['temporal', 'te...</td>\n    </tr>\n    <tr>\n      <th>21</th>\n      <td>00002289_s003</td>\n      <td>2289</td>\n      <td>./../TU_EEG_Seizures_processed/v0_4/info-patie...</td>\n      <td>0.802548</td>\n      <td>300</td>\n      <td>0</td>\n      <td>00002289_s003_t000</td>\n      <td>CLINICAL HISTORY:  38 year old right handed fe...</td>\n      <td>temporal lobe, central, temporal</td>\n      <td>Generalized, focal</td>\n      <td>[(['frontocentral'], [799]), (['temporal', 'te...</td>\n    </tr>\n    <tr>\n      <th>22</th>\n      <td>00002289_s003</td>\n      <td>2289</td>\n      <td>./../TU_EEG_Seizures_processed/v0_4/info-patie...</td>\n      <td>0.882273</td>\n      <td>659</td>\n      <td>0</td>\n      <td>00002289_s003_t001</td>\n      <td>CLINICAL HISTORY:  38 year old right handed fe...</td>\n      <td>temporal lobe, central, temporal</td>\n      <td>Generalized, focal</td>\n      <td>[(['frontocentral'], [799]), (['temporal', 'te...</td>\n    </tr>\n    <tr>\n      <th>23</th>\n      <td>00002289_s003</td>\n      <td>2289</td>\n      <td>./../TU_EEG_Seizures_processed/v0_4/info-patie...</td>\n      <td>0.947891</td>\n      <td>201</td>\n      <td>0</td>\n      <td>00002289_s003_t003</td>\n      <td>CLINICAL HISTORY:  38 year old right handed fe...</td>\n      <td>temporal lobe, central, temporal</td>\n      <td>Generalized, focal</td>\n      <td>[(['frontocentral'], [799]), (['temporal', 'te...</td>\n    </tr>\n    <tr>\n      <th>24</th>\n      <td>00002289_s003</td>\n      <td>2289</td>\n      <td>./../TU_EEG_Seizures_processed/v0_4/info-patie...</td>\n      <td>0.937001</td>\n      <td>601</td>\n      <td>0</td>\n      <td>00002289_s003_t004</td>\n      <td>CLINICAL HISTORY:  38 year old right handed fe...</td>\n      <td>temporal lobe, central, temporal</td>\n      <td>Generalized, focal</td>\n      <td>[(['frontocentral'], [799]), (['temporal', 'te...</td>\n    </tr>\n    <tr>\n      <th>25</th>\n      <td>00002289_s003</td>\n      <td>2289</td>\n      <td>./../TU_EEG_Seizures_processed/v0_4/info-patie...</td>\n      <td>0.884058</td>\n      <td>300</td>\n      <td>0</td>\n      <td>00002289_s003_t005</td>\n      <td>CLINICAL HISTORY:  38 year old right handed fe...</td>\n      <td>temporal lobe, central, temporal</td>\n      <td>Generalized, focal</td>\n      <td>[(['frontocentral'], [799]), (['temporal', 'te...</td>\n    </tr>\n    <tr>\n      <th>26</th>\n      <td>00002289_s003</td>\n      <td>2289</td>\n      <td>./../TU_EEG_Seizures_processed/v0_4/info-patie...</td>\n      <td>0.701145</td>\n      <td>1241</td>\n      <td>0</td>\n      <td>00002289_s003_t006</td>\n      <td>CLINICAL HISTORY:  38 year old right handed fe...</td>\n      <td>temporal lobe, central, temporal</td>\n      <td>Generalized, focal</td>\n      <td>[(['frontocentral'], [799]), (['temporal', 'te...</td>\n    </tr>\n    <tr>\n      <th>27</th>\n      <td>00002289_s003</td>\n      <td>2289</td>\n      <td>./../TU_EEG_Seizures_processed/v0_4/info-patie...</td>\n      <td>0.990168</td>\n      <td>999</td>\n      <td>0</td>\n      <td>00002289_s003_t007</td>\n      <td>CLINICAL HISTORY:  38 year old right handed fe...</td>\n      <td>temporal lobe, central, temporal</td>\n      <td>Generalized, focal</td>\n      <td>[(['frontocentral'], [799]), (['temporal', 'te...</td>\n    </tr>\n    <tr>\n      <th>28</th>\n      <td>00002289_s003</td>\n      <td>2289</td>\n      <td>./../TU_EEG_Seizures_processed/v0_4/info-patie...</td>\n      <td>0.650485</td>\n      <td>300</td>\n      <td>0</td>\n      <td>00002289_s003_t008</td>\n      <td>CLINICAL HISTORY:  38 year old right handed fe...</td>\n      <td>temporal lobe, central, temporal</td>\n      <td>Generalized, focal</td>\n      <td>[(['frontocentral'], [799]), (['temporal', 'te...</td>\n    </tr>\n    <tr>\n      <th>29</th>\n      <td>00002289_s003</td>\n      <td>2289</td>\n      <td>./../TU_EEG_Seizures_processed/v0_4/info-patie...</td>\n      <td>0.945925</td>\n      <td>601</td>\n      <td>0</td>\n      <td>00002289_s003_t009</td>\n      <td>CLINICAL HISTORY:  38 year old right handed fe...</td>\n      <td>temporal lobe, central, temporal</td>\n      <td>Generalized, focal</td>\n      <td>[(['frontocentral'], [799]), (['temporal', 'te...</td>\n    </tr>\n    <tr>\n      <th>30</th>\n      <td>00002289_s003</td>\n      <td>2289</td>\n      <td>./../TU_EEG_Seizures_processed/v0_4/info-patie...</td>\n      <td>0.955224</td>\n      <td>300</td>\n      <td>0</td>\n      <td>00002289_s003_t010</td>\n      <td>CLINICAL HISTORY:  38 year old right handed fe...</td>\n      <td>temporal lobe, central, temporal</td>\n      <td>Generalized, focal</td>\n      <td>[(['frontocentral'], [799]), (['temporal', 'te...</td>\n    </tr>\n    <tr>\n      <th>31</th>\n      <td>00002289_s003</td>\n      <td>2289</td>\n      <td>./../TU_EEG_Seizures_processed/v0_4/info-patie...</td>\n      <td>0.857578</td>\n      <td>601</td>\n      <td>0</td>\n      <td>00002289_s003_t011</td>\n      <td>CLINICAL HISTORY:  38 year old right handed fe...</td>\n      <td>temporal lobe, central, temporal</td>\n      <td>Generalized, focal</td>\n      <td>[(['frontocentral'], [799]), (['temporal', 'te...</td>\n    </tr>\n    <tr>\n      <th>32</th>\n      <td>00002289_s003</td>\n      <td>2289</td>\n      <td>./../TU_EEG_Seizures_processed/v0_4/info-patie...</td>\n      <td>0.673913</td>\n      <td>300</td>\n      <td>0</td>\n      <td>00002289_s003_t012</td>\n      <td>CLINICAL HISTORY:  38 year old right handed fe...</td>\n      <td>temporal lobe, central, temporal</td>\n      <td>Generalized, focal</td>\n      <td>[(['frontocentral'], [799]), (['temporal', 'te...</td>\n    </tr>\n    <tr>\n      <th>33</th>\n      <td>00002289_s003</td>\n      <td>2289</td>\n      <td>./../TU_EEG_Seizures_processed/v0_4/info-patie...</td>\n      <td>0.953521</td>\n      <td>601</td>\n      <td>0</td>\n      <td>00002289_s003_t013</td>\n      <td>CLINICAL HISTORY:  38 year old right handed fe...</td>\n      <td>temporal lobe, central, temporal</td>\n      <td>Generalized, focal</td>\n      <td>[(['frontocentral'], [799]), (['temporal', 'te...</td>\n    </tr>\n    <tr>\n      <th>34</th>\n      <td>00002289_s004</td>\n      <td>2289</td>\n      <td>./../TU_EEG_Seizures_processed/v0_4/info-patie...</td>\n      <td>0.902840</td>\n      <td>300</td>\n      <td>0</td>\n      <td>00002289_s004_t000</td>\n      <td>CLINICAL HISTORY:  Seizures day 2.\\nMEDICATION...</td>\n      <td>NaN</td>\n      <td>NaN</td>\n      <td>NaN</td>\n    </tr>\n    <tr>\n      <th>35</th>\n      <td>00002289_s004</td>\n      <td>2289</td>\n      <td>./../TU_EEG_Seizures_processed/v0_4/info-patie...</td>\n      <td>0.816327</td>\n      <td>300</td>\n      <td>0</td>\n      <td>00002289_s004_t005</td>\n      <td>CLINICAL HISTORY:  Seizures day 2.\\nMEDICATION...</td>\n      <td>NaN</td>\n      <td>NaN</td>\n      <td>NaN</td>\n    </tr>\n    <tr>\n      <th>36</th>\n      <td>00002289_s004</td>\n      <td>2289</td>\n      <td>./../TU_EEG_Seizures_processed/v0_4/info-patie...</td>\n      <td>0.866906</td>\n      <td>300</td>\n      <td>0</td>\n      <td>00002289_s004_t006</td>\n      <td>CLINICAL HISTORY:  Seizures day 2.\\nMEDICATION...</td>\n      <td>NaN</td>\n      <td>NaN</td>\n      <td>NaN</td>\n    </tr>\n    <tr>\n      <th>37</th>\n      <td>00002289_s004</td>\n      <td>2289</td>\n      <td>./../TU_EEG_Seizures_processed/v0_4/info-patie...</td>\n      <td>0.955789</td>\n      <td>300</td>\n      <td>0</td>\n      <td>00002289_s004_t010</td>\n      <td>CLINICAL HISTORY:  Seizures day 2.\\nMEDICATION...</td>\n      <td>NaN</td>\n      <td>NaN</td>\n      <td>NaN</td>\n    </tr>\n    <tr>\n      <th>38</th>\n      <td>00002289_s004</td>\n      <td>2289</td>\n      <td>./../TU_EEG_Seizures_processed/v0_4/info-patie...</td>\n      <td>0.903752</td>\n      <td>300</td>\n      <td>0</td>\n      <td>00002289_s004_t011</td>\n      <td>CLINICAL HISTORY:  Seizures day 2.\\nMEDICATION...</td>\n      <td>NaN</td>\n      <td>NaN</td>\n      <td>NaN</td>\n    </tr>\n    <tr>\n      <th>39</th>\n      <td>00002289_s005</td>\n      <td>2289</td>\n      <td>./../TU_EEG_Seizures_processed/v0_4/info-patie...</td>\n      <td>0.884211</td>\n      <td>300</td>\n      <td>0</td>\n      <td>00002289_s005_t000</td>\n      <td>CLINICAL HISTORY:\\nMEDICATIONS:\\nINTRODUCTION:...</td>\n      <td>NaN</td>\n      <td>NaN</td>\n      <td>NaN</td>\n    </tr>\n    <tr>\n      <th>40</th>\n      <td>00002289_s005</td>\n      <td>2289</td>\n      <td>./../TU_EEG_Seizures_processed/v0_4/info-patie...</td>\n      <td>0.904192</td>\n      <td>672</td>\n      <td>0</td>\n      <td>00002289_s005_t001</td>\n      <td>CLINICAL HISTORY:\\nMEDICATIONS:\\nINTRODUCTION:...</td>\n      <td>NaN</td>\n      <td>NaN</td>\n      <td>NaN</td>\n    </tr>\n    <tr>\n      <th>41</th>\n      <td>00002289_s005</td>\n      <td>2289</td>\n      <td>./../TU_EEG_Seizures_processed/v0_4/info-patie...</td>\n      <td>0.910663</td>\n      <td>300</td>\n      <td>0</td>\n      <td>00002289_s005_t002</td>\n      <td>CLINICAL HISTORY:\\nMEDICATIONS:\\nINTRODUCTION:...</td>\n      <td>NaN</td>\n      <td>NaN</td>\n      <td>NaN</td>\n    </tr>\n    <tr>\n      <th>42</th>\n      <td>00002289_s005</td>\n      <td>2289</td>\n      <td>./../TU_EEG_Seizures_processed/v0_4/info-patie...</td>\n      <td>0.968460</td>\n      <td>300</td>\n      <td>0</td>\n      <td>00002289_s005_t003</td>\n      <td>CLINICAL HISTORY:\\nMEDICATIONS:\\nINTRODUCTION:...</td>\n      <td>NaN</td>\n      <td>NaN</td>\n      <td>NaN</td>\n    </tr>\n    <tr>\n      <th>43</th>\n      <td>00002289_s005</td>\n      <td>2289</td>\n      <td>./../TU_EEG_Seizures_processed/v0_4/info-patie...</td>\n      <td>0.958242</td>\n      <td>300</td>\n      <td>0</td>\n      <td>00002289_s005_t004</td>\n      <td>CLINICAL HISTORY:\\nMEDICATIONS:\\nINTRODUCTION:...</td>\n      <td>NaN</td>\n      <td>NaN</td>\n      <td>NaN</td>\n    </tr>\n    <tr>\n      <th>44</th>\n      <td>00002289_s005</td>\n      <td>2289</td>\n      <td>./../TU_EEG_Seizures_processed/v0_4/info-patie...</td>\n      <td>0.739191</td>\n      <td>300</td>\n      <td>0</td>\n      <td>00002289_s005_t005</td>\n      <td>CLINICAL HISTORY:\\nMEDICATIONS:\\nINTRODUCTION:...</td>\n      <td>NaN</td>\n      <td>NaN</td>\n      <td>NaN</td>\n    </tr>\n    <tr>\n      <th>45</th>\n      <td>00002289_s007</td>\n      <td>2289</td>\n      <td>./../TU_EEG_Seizures_processed/v0_4/info-patie...</td>\n      <td>0.977118</td>\n      <td>701</td>\n      <td>0</td>\n      <td>00002289_s007_t000</td>\n      <td>CLINICAL HISTORY:\\nMEDICATIONS:\\nINTRODUCTION:...</td>\n      <td>NaN</td>\n      <td>NaN</td>\n      <td>NaN</td>\n    </tr>\n    <tr>\n      <th>46</th>\n      <td>00002289_s007</td>\n      <td>2289</td>\n      <td>./../TU_EEG_Seizures_processed/v0_4/info-patie...</td>\n      <td>0.953846</td>\n      <td>300</td>\n      <td>0</td>\n      <td>00002289_s007_t001</td>\n      <td>CLINICAL HISTORY:\\nMEDICATIONS:\\nINTRODUCTION:...</td>\n      <td>NaN</td>\n      <td>NaN</td>\n      <td>NaN</td>\n    </tr>\n    <tr>\n      <th>47</th>\n      <td>00002289_s007</td>\n      <td>2289</td>\n      <td>./../TU_EEG_Seizures_processed/v0_4/info-patie...</td>\n      <td>0.911585</td>\n      <td>300</td>\n      <td>0</td>\n      <td>00002289_s007_t002</td>\n      <td>CLINICAL HISTORY:\\nMEDICATIONS:\\nINTRODUCTION:...</td>\n      <td>NaN</td>\n      <td>NaN</td>\n      <td>NaN</td>\n    </tr>\n    <tr>\n      <th>48</th>\n      <td>00002289_s007</td>\n      <td>2289</td>\n      <td>./../TU_EEG_Seizures_processed/v0_4/info-patie...</td>\n      <td>0.979516</td>\n      <td>300</td>\n      <td>0</td>\n      <td>00002289_s007_t003</td>\n      <td>CLINICAL HISTORY:\\nMEDICATIONS:\\nINTRODUCTION:...</td>\n      <td>NaN</td>\n      <td>NaN</td>\n      <td>NaN</td>\n    </tr>\n    <tr>\n      <th>49</th>\n      <td>00002289_s007</td>\n      <td>2289</td>\n      <td>./../TU_EEG_Seizures_processed/v0_4/info-patie...</td>\n      <td>0.976471</td>\n      <td>300</td>\n      <td>0</td>\n      <td>00002289_s007_t004</td>\n      <td>CLINICAL HISTORY:\\nMEDICATIONS:\\nINTRODUCTION:...</td>\n      <td>NaN</td>\n      <td>NaN</td>\n      <td>NaN</td>\n    </tr>\n    <tr>\n      <th>50</th>\n      <td>00002289_s008</td>\n      <td>2289</td>\n      <td>./../TU_EEG_Seizures_processed/v0_4/info-patie...</td>\n      <td>0.641509</td>\n      <td>34</td>\n      <td>0</td>\n      <td>00002289_s008_t000</td>\n      <td>CLINICAL HISTORY:\\nMEDICATIONS:\\nINTRODUCTION:...</td>\n      <td>NaN</td>\n      <td>NaN</td>\n      <td>NaN</td>\n    </tr>\n    <tr>\n      <th>51</th>\n      <td>00002289_s008</td>\n      <td>2289</td>\n      <td>./../TU_EEG_Seizures_processed/v0_4/info-patie...</td>\n      <td>0.828571</td>\n      <td>115</td>\n      <td>0</td>\n      <td>00002289_s008_t001</td>\n      <td>CLINICAL HISTORY:\\nMEDICATIONS:\\nINTRODUCTION:...</td>\n      <td>NaN</td>\n      <td>NaN</td>\n      <td>NaN</td>\n    </tr>\n    <tr>\n      <th>52</th>\n      <td>00002289_s008</td>\n      <td>2289</td>\n      <td>./../TU_EEG_Seizures_processed/v0_4/info-patie...</td>\n      <td>0.902473</td>\n      <td>539</td>\n      <td>0</td>\n      <td>00002289_s008_t002</td>\n      <td>CLINICAL HISTORY:\\nMEDICATIONS:\\nINTRODUCTION:...</td>\n      <td>NaN</td>\n      <td>NaN</td>\n      <td>NaN</td>\n    </tr>\n    <tr>\n      <th>53</th>\n      <td>00002289_s009</td>\n      <td>2289</td>\n      <td>./../TU_EEG_Seizures_processed/v0_4/info-patie...</td>\n      <td>0.998605</td>\n      <td>653</td>\n      <td>0</td>\n      <td>00002289_s009_t000</td>\n      <td>CLINICAL HISTORY:\\nMEDICATIONS:\\nINTRODUCTION:...</td>\n      <td>NaN</td>\n      <td>NaN</td>\n      <td>NaN</td>\n    </tr>\n    <tr>\n      <th>54</th>\n      <td>00002289_s009</td>\n      <td>2289</td>\n      <td>./../TU_EEG_Seizures_processed/v0_4/info-patie...</td>\n      <td>0.979592</td>\n      <td>235</td>\n      <td>0</td>\n      <td>00002289_s009_t002</td>\n      <td>CLINICAL HISTORY:\\nMEDICATIONS:\\nINTRODUCTION:...</td>\n      <td>NaN</td>\n      <td>NaN</td>\n      <td>NaN</td>\n    </tr>\n    <tr>\n      <th>55</th>\n      <td>00002289_s009</td>\n      <td>2289</td>\n      <td>./../TU_EEG_Seizures_processed/v0_4/info-patie...</td>\n      <td>0.924761</td>\n      <td>595</td>\n      <td>0</td>\n      <td>00002289_s009_t003</td>\n      <td>CLINICAL HISTORY:\\nMEDICATIONS:\\nINTRODUCTION:...</td>\n      <td>NaN</td>\n      <td>NaN</td>\n      <td>NaN</td>\n    </tr>\n    <tr>\n      <th>56</th>\n      <td>00008204_s001</td>\n      <td>8204</td>\n      <td>./../TU_EEG_Seizures_processed/v0_4/info-patie...</td>\n      <td>0.970911</td>\n      <td>1401</td>\n      <td>3</td>\n      <td>00008204_s001_t000</td>\n      <td>CLINICAL HISTORY:   60 year old right handed w...</td>\n      <td>NaN</td>\n      <td>NaN</td>\n      <td>NaN</td>\n    </tr>\n    <tr>\n      <th>57</th>\n      <td>00010247_s001</td>\n      <td>10247</td>\n      <td>./../TU_EEG_Seizures_processed/v0_4/info-patie...</td>\n      <td>0.999527</td>\n      <td>1344</td>\n      <td>0</td>\n      <td>00010247_s001_t000</td>\n      <td>CLINICAL HISTORY:  A 50-year-old male with sei...</td>\n      <td>NaN</td>\n      <td>NaN</td>\n      <td>NaN</td>\n    </tr>\n  </tbody>\n</table>\n</div>"
     },
     "metadata": {},
     "execution_count": 270
    }
   ],
   "source": [
    "data"
   ]
  },
  {
   "cell_type": "code",
   "execution_count": 254,
   "metadata": {},
   "outputs": [
    {
     "output_type": "error",
     "ename": "KeyError",
     "evalue": "'Patient_report'",
     "traceback": [
      "\u001b[0;31m---------------------------------------------------------------------------\u001b[0m",
      "\u001b[0;31mKeyError\u001b[0m                                  Traceback (most recent call last)",
      "\u001b[0;32m~/anaconda3/envs/datascience/lib/python3.8/site-packages/pandas/core/indexes/base.py\u001b[0m in \u001b[0;36mget_loc\u001b[0;34m(self, key, method, tolerance)\u001b[0m\n\u001b[1;32m   2888\u001b[0m             \u001b[0;32mtry\u001b[0m\u001b[0;34m:\u001b[0m\u001b[0;34m\u001b[0m\u001b[0;34m\u001b[0m\u001b[0m\n\u001b[0;32m-> 2889\u001b[0;31m                 \u001b[0;32mreturn\u001b[0m \u001b[0mself\u001b[0m\u001b[0;34m.\u001b[0m\u001b[0m_engine\u001b[0m\u001b[0;34m.\u001b[0m\u001b[0mget_loc\u001b[0m\u001b[0;34m(\u001b[0m\u001b[0mcasted_key\u001b[0m\u001b[0;34m)\u001b[0m\u001b[0;34m\u001b[0m\u001b[0;34m\u001b[0m\u001b[0m\n\u001b[0m\u001b[1;32m   2890\u001b[0m             \u001b[0;32mexcept\u001b[0m \u001b[0mKeyError\u001b[0m \u001b[0;32mas\u001b[0m \u001b[0merr\u001b[0m\u001b[0;34m:\u001b[0m\u001b[0;34m\u001b[0m\u001b[0;34m\u001b[0m\u001b[0m\n",
      "\u001b[0;32mpandas/_libs/index.pyx\u001b[0m in \u001b[0;36mpandas._libs.index.IndexEngine.get_loc\u001b[0;34m()\u001b[0m\n",
      "\u001b[0;32mpandas/_libs/index.pyx\u001b[0m in \u001b[0;36mpandas._libs.index.IndexEngine.get_loc\u001b[0;34m()\u001b[0m\n",
      "\u001b[0;32mpandas/_libs/hashtable_class_helper.pxi\u001b[0m in \u001b[0;36mpandas._libs.hashtable.PyObjectHashTable.get_item\u001b[0;34m()\u001b[0m\n",
      "\u001b[0;32mpandas/_libs/hashtable_class_helper.pxi\u001b[0m in \u001b[0;36mpandas._libs.hashtable.PyObjectHashTable.get_item\u001b[0;34m()\u001b[0m\n",
      "\u001b[0;31mKeyError\u001b[0m: 'Patient_report'",
      "\nThe above exception was the direct cause of the following exception:\n",
      "\u001b[0;31mKeyError\u001b[0m                                  Traceback (most recent call last)",
      "\u001b[0;32m<ipython-input-254-930388e468d5>\u001b[0m in \u001b[0;36m<module>\u001b[0;34m\u001b[0m\n\u001b[0;32m----> 1\u001b[0;31m \u001b[0mtext_test\u001b[0m \u001b[0;34m=\u001b[0m \u001b[0mdata\u001b[0m\u001b[0;34m[\u001b[0m\u001b[0;34m'Patient_report'\u001b[0m\u001b[0;34m]\u001b[0m\u001b[0;34m.\u001b[0m\u001b[0miloc\u001b[0m\u001b[0;34m[\u001b[0m\u001b[0;36m3\u001b[0m\u001b[0;34m]\u001b[0m\u001b[0;34m\u001b[0m\u001b[0;34m\u001b[0m\u001b[0m\n\u001b[0m\u001b[1;32m      2\u001b[0m \u001b[0mcreate_highlighted_markdown_text\u001b[0m\u001b[0;34m(\u001b[0m\u001b[0mtext_test\u001b[0m\u001b[0;34m,\u001b[0m \u001b[0mtags_list\u001b[0m\u001b[0;34m)\u001b[0m\u001b[0;34m\u001b[0m\u001b[0;34m\u001b[0m\u001b[0m\n",
      "\u001b[0;32m~/anaconda3/envs/datascience/lib/python3.8/site-packages/pandas/core/frame.py\u001b[0m in \u001b[0;36m__getitem__\u001b[0;34m(self, key)\u001b[0m\n\u001b[1;32m   2900\u001b[0m             \u001b[0;32mif\u001b[0m \u001b[0mself\u001b[0m\u001b[0;34m.\u001b[0m\u001b[0mcolumns\u001b[0m\u001b[0;34m.\u001b[0m\u001b[0mnlevels\u001b[0m \u001b[0;34m>\u001b[0m \u001b[0;36m1\u001b[0m\u001b[0;34m:\u001b[0m\u001b[0;34m\u001b[0m\u001b[0;34m\u001b[0m\u001b[0m\n\u001b[1;32m   2901\u001b[0m                 \u001b[0;32mreturn\u001b[0m \u001b[0mself\u001b[0m\u001b[0;34m.\u001b[0m\u001b[0m_getitem_multilevel\u001b[0m\u001b[0;34m(\u001b[0m\u001b[0mkey\u001b[0m\u001b[0;34m)\u001b[0m\u001b[0;34m\u001b[0m\u001b[0;34m\u001b[0m\u001b[0m\n\u001b[0;32m-> 2902\u001b[0;31m             \u001b[0mindexer\u001b[0m \u001b[0;34m=\u001b[0m \u001b[0mself\u001b[0m\u001b[0;34m.\u001b[0m\u001b[0mcolumns\u001b[0m\u001b[0;34m.\u001b[0m\u001b[0mget_loc\u001b[0m\u001b[0;34m(\u001b[0m\u001b[0mkey\u001b[0m\u001b[0;34m)\u001b[0m\u001b[0;34m\u001b[0m\u001b[0;34m\u001b[0m\u001b[0m\n\u001b[0m\u001b[1;32m   2903\u001b[0m             \u001b[0;32mif\u001b[0m \u001b[0mis_integer\u001b[0m\u001b[0;34m(\u001b[0m\u001b[0mindexer\u001b[0m\u001b[0;34m)\u001b[0m\u001b[0;34m:\u001b[0m\u001b[0;34m\u001b[0m\u001b[0;34m\u001b[0m\u001b[0m\n\u001b[1;32m   2904\u001b[0m                 \u001b[0mindexer\u001b[0m \u001b[0;34m=\u001b[0m \u001b[0;34m[\u001b[0m\u001b[0mindexer\u001b[0m\u001b[0;34m]\u001b[0m\u001b[0;34m\u001b[0m\u001b[0;34m\u001b[0m\u001b[0m\n",
      "\u001b[0;32m~/anaconda3/envs/datascience/lib/python3.8/site-packages/pandas/core/indexes/base.py\u001b[0m in \u001b[0;36mget_loc\u001b[0;34m(self, key, method, tolerance)\u001b[0m\n\u001b[1;32m   2889\u001b[0m                 \u001b[0;32mreturn\u001b[0m \u001b[0mself\u001b[0m\u001b[0;34m.\u001b[0m\u001b[0m_engine\u001b[0m\u001b[0;34m.\u001b[0m\u001b[0mget_loc\u001b[0m\u001b[0;34m(\u001b[0m\u001b[0mcasted_key\u001b[0m\u001b[0;34m)\u001b[0m\u001b[0;34m\u001b[0m\u001b[0;34m\u001b[0m\u001b[0m\n\u001b[1;32m   2890\u001b[0m             \u001b[0;32mexcept\u001b[0m \u001b[0mKeyError\u001b[0m \u001b[0;32mas\u001b[0m \u001b[0merr\u001b[0m\u001b[0;34m:\u001b[0m\u001b[0;34m\u001b[0m\u001b[0;34m\u001b[0m\u001b[0m\n\u001b[0;32m-> 2891\u001b[0;31m                 \u001b[0;32mraise\u001b[0m \u001b[0mKeyError\u001b[0m\u001b[0;34m(\u001b[0m\u001b[0mkey\u001b[0m\u001b[0;34m)\u001b[0m \u001b[0;32mfrom\u001b[0m \u001b[0merr\u001b[0m\u001b[0;34m\u001b[0m\u001b[0;34m\u001b[0m\u001b[0m\n\u001b[0m\u001b[1;32m   2892\u001b[0m \u001b[0;34m\u001b[0m\u001b[0m\n\u001b[1;32m   2893\u001b[0m         \u001b[0;32mif\u001b[0m \u001b[0mtolerance\u001b[0m \u001b[0;32mis\u001b[0m \u001b[0;32mnot\u001b[0m \u001b[0;32mNone\u001b[0m\u001b[0;34m:\u001b[0m\u001b[0;34m\u001b[0m\u001b[0;34m\u001b[0m\u001b[0m\n",
      "\u001b[0;31mKeyError\u001b[0m: 'Patient_report'"
     ]
    }
   ],
   "source": [
    "text_test = data['Patient_report'].iloc[3]\n",
    "create_highlighted_markdown_text(text_test, tags_list)"
   ]
  },
  {
   "cell_type": "code",
   "execution_count": 271,
   "metadata": {},
   "outputs": [],
   "source": [
    "def html_decorate_text(text, background_color = \"#DDDDDD\", font_weight = \"500\"):\n",
    "    return '<span style=\"background-color: '+ background_color +'; font-weight: '+ font_weight +';\">'+ text +'</span>'\n",
    "\n",
    "def bolded_tagged_sentenced(report):\n",
    "    bolded_report = ''\n",
    "    for sentence in str(report).split('.'):\n",
    "        if re.search('<span style=', sentence):\n",
    "            sentence = str('**') + sentence + str('**.') \n",
    "        else:\n",
    "            sentence = sentence + '.'\n",
    "        bolded_report += sentence\n",
    "    return bolded_report"
   ]
  },
  {
   "cell_type": "code",
   "execution_count": 272,
   "metadata": {},
   "outputs": [],
   "source": [
    "def html_decorate_tag_list(tag_list):\n",
    "    if len(tag_list) == 0:\n",
    "        return tag_list\n",
    "    else:\n",
    "        tag_list_content = [html_decorate_text(content) for content in tag_list]\n",
    "        tag_list_content = \", \".join(tag_list_content)\n",
    "        return tag_list_content"
   ]
  },
  {
   "cell_type": "code",
   "execution_count": 273,
   "metadata": {},
   "outputs": [
    {
     "output_type": "execute_result",
     "data": {
      "text/plain": "'<span style=\"background-color: #DDDDDD; font-weight: 500;\">frontocentral</span>, <span style=\"background-color: #DDDDDD; font-weight: 500;\">temporal</span>, <span style=\"background-color: #DDDDDD; font-weight: 500;\">placement</span>'"
     },
     "metadata": {},
     "execution_count": 273
    }
   ],
   "source": [
    "html_decorate_tag_list(targets_list)"
   ]
  },
  {
   "cell_type": "code",
   "execution_count": 274,
   "metadata": {},
   "outputs": [],
   "source": [
    "data_neutral = pd.read_csv('data/parameters/simplified_key_words.csv', encoding=\"utf-8\")"
   ]
  },
  {
   "cell_type": "code",
   "execution_count": 275,
   "metadata": {},
   "outputs": [
    {
     "output_type": "execute_result",
     "data": {
      "text/plain": "  symptome-en-simple type of crisis\n0           absences            NaN\n1              ADEAF            NaN\n2             atonic    Generalized\n3               BFNE            NaN\n4                CAE    Generalized",
      "text/html": "<div>\n<style scoped>\n    .dataframe tbody tr th:only-of-type {\n        vertical-align: middle;\n    }\n\n    .dataframe tbody tr th {\n        vertical-align: top;\n    }\n\n    .dataframe thead th {\n        text-align: right;\n    }\n</style>\n<table border=\"1\" class=\"dataframe\">\n  <thead>\n    <tr style=\"text-align: right;\">\n      <th></th>\n      <th>symptome-en-simple</th>\n      <th>type of crisis</th>\n    </tr>\n  </thead>\n  <tbody>\n    <tr>\n      <th>0</th>\n      <td>absences</td>\n      <td>NaN</td>\n    </tr>\n    <tr>\n      <th>1</th>\n      <td>ADEAF</td>\n      <td>NaN</td>\n    </tr>\n    <tr>\n      <th>2</th>\n      <td>atonic</td>\n      <td>Generalized</td>\n    </tr>\n    <tr>\n      <th>3</th>\n      <td>BFNE</td>\n      <td>NaN</td>\n    </tr>\n    <tr>\n      <th>4</th>\n      <td>CAE</td>\n      <td>Generalized</td>\n    </tr>\n  </tbody>\n</table>\n</div>"
     },
     "metadata": {},
     "execution_count": 275
    }
   ],
   "source": [
    "data_neutral.head()"
   ]
  },
  {
   "cell_type": "code",
   "execution_count": 278,
   "metadata": {},
   "outputs": [
    {
     "output_type": "execute_result",
     "data": {
      "text/plain": "['frontocentral', 'temporal', 'placement']"
     },
     "metadata": {},
     "execution_count": 278
    }
   ],
   "source": [
    "targets_list"
   ]
  },
  {
   "cell_type": "code",
   "execution_count": 287,
   "metadata": {},
   "outputs": [],
   "source": [
    "\n",
    "def crisis_type_correspondance(target_tags_list, correspondance_dataset):\n",
    "    crisis_type_list = []\n",
    "\n",
    "    for target in target_tags_list:\n",
    "        try:\n",
    "            crisis_type = correspondance_dataset[correspondance_dataset['symptome-en-simple'] == target]['type of crisis'].iloc[0]\n",
    "            if crisis_type not in crisis_type_list:\n",
    "                crisis_type_list.append(crisis_type)\n",
    "        except:\n",
    "            pass\n",
    "    target_tags_list.remove(nan)\n",
    "    return crisis_type_list"
   ]
  },
  {
   "cell_type": "code",
   "execution_count": 288,
   "metadata": {},
   "outputs": [],
   "source": [
    "targets_list = ['atonic','central' ]"
   ]
  },
  {
   "cell_type": "code",
   "execution_count": 285,
   "metadata": {
    "tags": []
   },
   "outputs": [
    {
     "output_type": "execute_result",
     "data": {
      "text/plain": "['Generalized', 'focal']"
     },
     "metadata": {},
     "execution_count": 285
    }
   ],
   "source": [
    "crisis_type_correspondance(targets_list, data_neutral)"
   ]
  },
  {
   "cell_type": "code",
   "execution_count": 286,
   "metadata": {},
   "outputs": [
    {
     "output_type": "execute_result",
     "data": {
      "text/plain": "'<span style=\"background-color: #DDDDDD; font-weight: 500;\">Generalized</span>, <span style=\"background-color: #DDDDDD; font-weight: 500;\">focal</span>'"
     },
     "metadata": {},
     "execution_count": 286
    }
   ],
   "source": [
    "html_decorate_tag_list(crisis_type_correspondance(targets_list, data_neutral))"
   ]
  },
  {
   "cell_type": "code",
   "execution_count": null,
   "metadata": {},
   "outputs": [],
   "source": []
  }
 ]
}