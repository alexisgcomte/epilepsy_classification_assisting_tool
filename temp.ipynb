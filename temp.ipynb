{
 "metadata": {
  "language_info": {
   "codemirror_mode": {
    "name": "ipython",
    "version": 3
   },
   "file_extension": ".py",
   "mimetype": "text/x-python",
   "name": "python",
   "nbconvert_exporter": "python",
   "pygments_lexer": "ipython3",
   "version": "3.8.5-final"
  },
  "orig_nbformat": 2,
  "kernelspec": {
   "name": "python_defaultSpec_1599730621773",
   "display_name": "Python 3.8.5 64-bit ('datascience': conda)"
  }
 },
 "nbformat": 4,
 "nbformat_minor": 2,
 "cells": [
  {
   "cell_type": "code",
   "execution_count": 94,
   "metadata": {},
   "outputs": [],
   "source": [
    "import streamlit as st\n",
    "import pandas as pd\n",
    "import numpy as np\n",
    "import re\n",
    "import ast\n",
    "import glob\n",
    "from datetime import datetime\n",
    "\n",
    "# FUNCTION DEFINITIONS\n",
    "\n",
    "def create_highlighted_markdown_text(report, highlighted_information, neutral_tags_list):\n",
    "    #try :\n",
    "    # Initialization and parameters\n",
    "    if pd.isnull(highlighted_information):\n",
    "        report = re.sub(\"\\n\", \"<br>\", report)\n",
    "        return report\n",
    "\n",
    "    # Creating a dataset of the elements to highlight\n",
    "    df_highlighted_batch = pd.DataFrame(columns=['word','coordinates'])\n",
    "\n",
    "    for highlighted_info in ast.literal_eval(highlighted_information):\n",
    "        words = highlighted_info[0]\n",
    "        index = highlighted_info[1]\n",
    "        for i in range(len(words)):\n",
    "            df_highlighted_batch = df_highlighted_batch.append({'word':words[i], 'coordinates':index[i]}, ignore_index=True)\n",
    "    df_highlighted_batch.sort_values(by=\"coordinates\", inplace=True) # for highlighting in order of position\n",
    "\n",
    "    # Updating the report\n",
    "    #for i in range(df_highlighted_batch.shape[0]):\n",
    "     #   word = df_highlighted_batch['word'].iloc[i]\n",
    "      #  index = df_highlighted_batch['coordinates'].iloc[i]\n",
    "\n",
    "     #   decorate_word = html_decorate_text(word, background_color=\"#FFFF00\")\n",
    "     #   report = report[:index + shift] + decorate_word + report[len(report[:index + shift] + word):]\n",
    "     #   shift += len(decorate_word) - len(word)\n",
    "    #n = df_highlighted_batch.shape[0]\n",
    "    #for i in range(n):\n",
    "    #    word = df_highlighted_batch['word'].iloc[n-i-1]\n",
    "    #    index = df_highlighted_batch['coordinates'].iloc[n-i-1]\n",
    "    #    decorate_word = html_decorate_text(word, background_color=\"#FFFF00\")\n",
    "    #    report = report[:index] + decorate_word + report[len(report[:index] + word):]\n",
    "\n",
    "    # changing for regex\n",
    "    for word in df_highlighted_batch['word'].unique():\n",
    "        decorate_word = html_decorate_text(word, background_color=\"#FFFF00\")\n",
    "        print(word)\n",
    "        print(decorate_word)\n",
    "        report = re.sub(word, decorate_word, report)    \n",
    "\n",
    "    # Keep newline in the markdown report\n",
    "    report = re.sub(\"\\n\", \"<br>\", report)\n",
    "    report = bolded_tagged_sentenced(report)\n",
    "    report = neutral_tags_addition(report, neutral_tags_list)\n",
    "    return report\n",
    "\n",
    "\n",
    "def html_decorate_text(text, background_color = \"#DDDDDD\", font_weight = \"500\"):\n",
    "    return '<span style=\"background-color: '+ background_color +'; font-weight: '+ font_weight +';\">'+ text +'</span>'\n",
    "\n",
    "def bolded_tagged_sentenced(report):\n",
    "    bolded_report = ''\n",
    "    for sentence in str(report).split('.'):\n",
    "        if re.search('<span style=', sentence):\n",
    "            sentence = str('**') + sentence + str('**.')\n",
    "        else:\n",
    "            sentence = sentence + '.'\n",
    "        bolded_report += sentence\n",
    "    return bolded_report\n",
    "\n",
    "def neutral_tags_addition(report, neutral_tags_list):\n",
    "    updated_report = report\n",
    "    for neutral_tags in neutral_tags_list:\n",
    "        search = neutral_tags\n",
    "        updated_report = re.sub(search, html_decorate_text(neutral_tags, background_color='#00ecff'), updated_report)\n",
    "     \n",
    "        #search = '(\\w*)?({})\\w*'.format(neutral_tags)\n",
    "        #updated_report = re.sub(neutral_tags, html_decorate_text(neutral_tags, background_color='#00ecff'), updated_report)\n",
    "\n",
    "      # with capital letter\n",
    "        #maj_neutral_tags = str(neutral_tags[:1].upper()+neutral_tags[1:])\n",
    "        #search = maj_neutral_tags\n",
    "        #search = '\\w*({})\\w*'.format(maj_neutral_tags)\n",
    "        #updated_report = re.sub(search, html_decorate_text(neutral_tags, background_color='#00ecff'), updated_report)\n",
    "    return updated_report\n",
    "\n",
    "def html_decorate_tag_list(tag_list):\n",
    "    if pd.isnull(tag_list):\n",
    "        return tag_list\n",
    "    else:\n",
    "        tag_list_content = str(tag_list).split(\",\")\n",
    "        tag_list_content = [html_decorate_text(content) for content in tag_list_content]\n",
    "        tag_list_content = \", \".join(tag_list_content)\n",
    "        return tag_list_content\n",
    "\n",
    "def extract_info(selected_patient, dataset):\n",
    "    single_patient_df = dataset[dataset[\"Patient_name\"] == selected_patient]\n",
    "    single_patient_df = single_patient_df[[\"Patient_name\", \"Exam_name\", \"Nb_Seizures\", \"Patient_report\", \"Exam_duration\", \"Tags\", \"Seizure_type\", \"Highlighted_data\"]]\n",
    "    single_patient_df = single_patient_df.groupby(\"Exam_name\").agg({\"Patient_name\": \"first\",\n",
    "                                                                    \"Nb_Seizures\": \"sum\",\n",
    "                                                                    \"Patient_report\" :\"first\",\n",
    "                                                                    \"Exam_duration\":\"sum\",\n",
    "                                                                    \"Tags\" : \"first\",\n",
    "                                                                    \"Seizure_type\" : \"first\",\n",
    "                                                                    \"Highlighted_data\" : \"first\"})\n",
    "\n",
    "    single_patient_df = single_patient_df.sort_values([\"Nb_Seizures\", \"Exam_name\"], ascending = (False, True))\n",
    "    return single_patient_df\n",
    "\n",
    "def defaut_value_listing(defaut_values_df):\n",
    "    # Loading previously input datas\n",
    "    # Dealing with Seizure_type and Tags colums\n",
    "    default_list = []\n",
    "    columns = ['Seizure_type', 'Tags', 'Laterality', 'thesaurus']\n",
    "\n",
    "    for col in columns:\n",
    "        element = defaut_values_df[col].iloc[0]\n",
    "        if pd.isnull(element):\n",
    "            element = None\n",
    "        else:\n",
    "            try:\n",
    "                element = element.split(', ')\n",
    "            except:\n",
    "                element = list(element)    \n",
    "        default_list.append(element)\n",
    "\n",
    "    # Adding free notes\n",
    "    element = defaut_values_df['Free_Notes'].iloc[0]\n",
    "    if pd.isnull(element):\n",
    "        element = ''\n",
    "    default_list.append(element)\n",
    "\n",
    "    return [element for element in default_list]      \n",
    "\n",
    "def extract_defaut_values(selected_patient, classified_dataset):\n",
    "    # Extract previously input fields\n",
    "    defaut_values_df = classified_dataset[classified_dataset[\"Patient_name\"] == selected_patient]\n",
    "    default_epilepsy_type, default_tags, default_laterality, default_thesaurus, default_free_notes = defaut_value_listing(defaut_values_df)\n",
    "    return default_epilepsy_type, default_tags, default_laterality, default_thesaurus, default_free_notes\n",
    "\n",
    "def update_classified_dataset(selected_patient, classified_dataset, epilepsy_type_input, keywords_input, laterality_input, free_notes_input):\n",
    "    # Update the classification CSV with input values\n",
    "    classified_dataset.loc[classified_dataset['Patient_name'] == selected_patient, 'Seizure_type'] = re.sub(r\"([\\]\\'\\[])\",'',str(epilepsy_type_input))\n",
    "    classified_dataset.loc[classified_dataset['Patient_name'] == selected_patient, 'Tags'] = re.sub(r\"([\\]\\'\\[])\",'',str(keywords_input))\n",
    "    classified_dataset.loc[classified_dataset['Patient_name'] == selected_patient, 'Laterality'] = re.sub(r\"([\\]\\'\\[])\",'',str(laterality_input))\n",
    "    classified_dataset.loc[classified_dataset['Patient_name'] == selected_patient, 'thesaurus'] = re.sub(r\"([\\]\\\\[])\",'',str(thesaurus_input))\n",
    "    classified_dataset.loc[classified_dataset['Patient_name'] == selected_patient, 'Free_Notes'] = free_notes_input\n",
    "    return classified_dataset\n",
    "\n",
    "def update_last_patient_classified(last_patient_classified_df, selected_patient):\n",
    "    # Update the number of the last patient classified\n",
    "    last_patient_classified_df['last_patient_classified'].iloc[0] = sorted_list[sorted_list.index(selected_patient)]\n",
    "    last_patient_classified_df.to_csv('data/parameters/last_patient_classified.csv', index=False)\n",
    "\n",
    "def update_last_patient_classified_next(last_patient_classified_df, selected_patient):\n",
    "    # Modify last_patient_classied for the next before loading\n",
    "    if selected_patient == sorted_list[-1]:\n",
    "        updated_patient = sorted_list[sorted_list.index(selected_patient)]\n",
    "        st.sidebar.info('Last report completed!')\n",
    "    else:\n",
    "        updated_patient = sorted_list[sorted_list.index(selected_patient) + 1]\n",
    "    last_patient_classified_df['last_patient_classified'].iloc[0] = updated_patient\n",
    "    last_patient_classified_df.to_csv('data/parameters/last_patient_classified.csv', index=False)\n",
    "    return updated_patient\n",
    "\n",
    "def update_last_patient_classified_previous(last_patient_classified_df, selected_patient):\n",
    "    # Modify last_patient_classied for the previous before loading\n",
    "    if selected_patient == sorted_list[0]:\n",
    "        updated_patient = sorted_list[sorted_list.index(selected_patient)]\n",
    "        st.sidebar.info('First report :)')\n",
    "    else:\n",
    "        updated_patient = sorted_list[sorted_list.index(selected_patient) -1]\n",
    "    last_patient_classified_df['last_patient_classified'].iloc[0] = updated_patient\n",
    "    last_patient_classified_df.to_csv('data/parameters/last_patient_classified.csv', index=False)\n",
    "    return updated_patient\n",
    "###\n",
    "# TO UPDATE\n",
    "###\n",
    "def completion_status(thesaurus_input):\n",
    "    # Return 1 of Epilepsy type is incomplete, else 0\n",
    "    status = 1\n",
    "    thesaurus_input = re.sub(r\"([\\]\\'\\[])\",'',str(thesaurus_input))\n",
    "\n",
    "    if (len(thesaurus_input) == 0 or str(thesaurus_input) == 'None'):\n",
    "        status = 0\n",
    "    return status\n",
    "\n",
    "# LOADING THE DATAS\n",
    "\n",
    "def update_save_path():\n",
    "    now = datetime.now().strftime(\"%Y-%m-%d %H-%M-%S\")\n",
    "    save_path = ('data/classified_reports/classified_report_database - {}.csv').format(now)\n",
    "    return save_path\n",
    "\n",
    "def load_data():\n",
    "    #data = pd.read_csv('data/structured_reports/Sample_annotated_report_database.csv', encoding=\"iso-8859-1\")\n",
    "    data = pd.read_csv('data/structured_reports/Sample_annotated_report_database.csv', encoding='utf8', sep=\";\")\n",
    "    return data\n",
    "\n",
    "#@st.cache(allow_output_mutation=True)\n",
    "def load_classified_reports(save_path):\n",
    "    files = [f for f in glob.glob('data/classified_reports' + \"**/*.csv\", recursive=True)]\n",
    "    files.sort()\n",
    "    last_report_path = files[-1]\n",
    "    data = pd.read_csv(last_report_path, encoding=\"iso-8859-1\")\n",
    "    data.to_csv(save_path, index=False)\n",
    "    return data\n",
    "\n",
    "def load_tags_list():\n",
    "    data = pd.read_csv('data/parameters/tags_list.csv', encoding=\"iso-8859-1\")\n",
    "    tags_list = data['tags'].tolist()\n",
    "    return tags_list\n",
    "\n",
    "def load_epilepsy_types_list():\n",
    "    data = pd.read_csv('data/parameters/epilepsy_types.csv', encoding=\"iso-8859-1\")\n",
    "    epilepsy_type_list = data['epilepsy_types'].tolist()\n",
    "    return epilepsy_type_list\n",
    "\n",
    "def load_laterality_list():\n",
    "    data = pd.read_csv('data/parameters/laterality_list.csv', encoding=\"iso-8859-1\")\n",
    "    laterality_list = data['laterality'].tolist()\n",
    "    return laterality_list\n",
    "\n",
    "def load_neutral_tags_list():\n",
    "    data = pd.read_csv('data/parameters/neutral_tags_list.csv', encoding=\"iso-8859-1\")\n",
    "    neutral_tags_list = data['neutral_tags'].tolist()\n",
    "    return neutral_tags_list\n",
    "\n",
    "def load_thesaurus_list():\n",
    "    data = pd.read_csv('data/parameters/thesaurus_list.csv', encoding=\"iso-8859-1\")\n",
    "    thesaurus_list = data['thesaurus'].tolist()\n",
    "    return thesaurus_list\n",
    "\n",
    "def last_patient_classified():\n",
    "    last_patient_classified_df = pd.read_csv('data/parameters/last_patient_classified.csv', encoding=\"iso-8859-1\")\n",
    "    last_patient_classified = last_patient_classified_df['last_patient_classified'].iloc[0]\n",
    "    return last_patient_classified_df, last_patient_classified\n",
    "\n",
    "# Create a text element and let the reader know the data is loading.\n",
    "\n",
    "save_path = update_save_path()\n",
    "dataset = load_data()\n",
    "classified_dataset = load_classified_reports(save_path)\n",
    "tags_list = load_tags_list()\n",
    "epilepsy_type_list = load_epilepsy_types_list()\n",
    "laterality_list = load_laterality_list()\n",
    "neutral_tags_list = load_neutral_tags_list()\n",
    "thesaurus_list = load_thesaurus_list()\n",
    "\n"
   ]
  },
  {
   "cell_type": "code",
   "execution_count": 95,
   "metadata": {},
   "outputs": [],
   "source": [
    "selected_patient = 1357\n",
    "single_patient_df = extract_info(selected_patient, dataset)"
   ]
  },
  {
   "cell_type": "code",
   "execution_count": 96,
   "metadata": {},
   "outputs": [
    {
     "output_type": "execute_result",
     "data": {
      "text/plain": "                   Patient_name  Nb_Seizures  \\\nExam_name                                      \n00002126_s001.txt          2126            0   \n\n                                                      Patient_report  \\\nExam_name                                                              \n00002126_s001.txt  CLINICAL HISTORY: This is a 3-month-old infant...   \n\n                   Exam_duration               Tags Seizure_type  \\\nExam_name                                                          \n00002126_s001.txt           2540  frontal, temporal        focal   \n\n                                                    Highlighted_data  \nExam_name                                                             \n00002126_s001.txt  [(['frontal', 'frontal'], [896, 1617]), (['fro...  ",
      "text/html": "<div>\n<style scoped>\n    .dataframe tbody tr th:only-of-type {\n        vertical-align: middle;\n    }\n\n    .dataframe tbody tr th {\n        vertical-align: top;\n    }\n\n    .dataframe thead th {\n        text-align: right;\n    }\n</style>\n<table border=\"1\" class=\"dataframe\">\n  <thead>\n    <tr style=\"text-align: right;\">\n      <th></th>\n      <th>Patient_name</th>\n      <th>Nb_Seizures</th>\n      <th>Patient_report</th>\n      <th>Exam_duration</th>\n      <th>Tags</th>\n      <th>Seizure_type</th>\n      <th>Highlighted_data</th>\n    </tr>\n    <tr>\n      <th>Exam_name</th>\n      <th></th>\n      <th></th>\n      <th></th>\n      <th></th>\n      <th></th>\n      <th></th>\n      <th></th>\n    </tr>\n  </thead>\n  <tbody>\n    <tr>\n      <th>00002126_s001.txt</th>\n      <td>2126</td>\n      <td>0</td>\n      <td>CLINICAL HISTORY: This is a 3-month-old infant...</td>\n      <td>2540</td>\n      <td>frontal, temporal</td>\n      <td>focal</td>\n      <td>[(['frontal', 'frontal'], [896, 1617]), (['fro...</td>\n    </tr>\n  </tbody>\n</table>\n</div>"
     },
     "metadata": {},
     "execution_count": 96
    }
   ],
   "source": [
    "single_patient_df.head()"
   ]
  },
  {
   "cell_type": "code",
   "execution_count": 97,
   "metadata": {},
   "outputs": [],
   "source": [
    "report_select = single_patient_df.iloc[0]"
   ]
  },
  {
   "cell_type": "code",
   "execution_count": 98,
   "metadata": {},
   "outputs": [
    {
     "output_type": "execute_result",
     "data": {
      "text/plain": "'CLINICAL HISTORY: This is a 3-month-old infant born at seven months with a birth weight of 1 lb., 14 oz., now with seizures characterized by tremulousness of the body and eyes with funny sounds lasting two to five seconds occurring twice this week.  Pre-term 28-weeker.\\nMEDICATIONS: Phenobarbital.\\nINTRODUCTION: Digital video EEG is performed at the bedside using standard 10-20 system of electrode placement with one channel of EKG. This is an awake and drowsy record.\\nDESCRIPTION OF THE RECORD: As the tracing opens, the child is sucking.  The background EEG is somewhat lower voltage than anticipated for an infant of this age.  There is some head rocking artifact and there is some sucking artifact.  There are occasional voltage asymmetries with higher voltage from the left compared to the right.  There is an occasional T6 sharp wave identified in the record, as well as one in the right frontal region.  There is clear variability and when the child is motorically active, the EEG is richer in theta frequency activity.  Some sections of the record show a more synchronous pattern with a more equal distribution of rhythmic theta and delta.  Other sections seem to suggest an attenuation from the right hemisphere, particularly the frontotemporal region.  There is no indication that the child had any neurosurgical procedures.\\nHR:  168 BPM.\\nIMPRESSION: This EEG must be considered abnormal for an infant of this age due to:\\nIntermittent asymmetry with relative attenuation of the activity from the right compared to the left.\\nOccasional sharp waves identified from the right hemisphere, particularly in the frontal and posterior temporal regions.\\nCLINICAL CORRELATION: The overall background is lower amplitude than one might anticipate for an infant of this age, but this EEG raises concerns regarding a structural or functional abnormality and potentially a partial mechanism for seizures.'"
     },
     "metadata": {},
     "execution_count": 98
    }
   ],
   "source": [
    "report_select[\"Patient_report\"]"
   ]
  },
  {
   "cell_type": "code",
   "execution_count": 99,
   "metadata": {},
   "outputs": [],
   "source": [
    "report, highlighted_information, neutral_tags_list = report_select[\"Patient_report\"], report_select[\"Highlighted_data\"], neutral_tags_list"
   ]
  },
  {
   "cell_type": "code",
   "execution_count": 100,
   "metadata": {},
   "outputs": [
    {
     "output_type": "execute_result",
     "data": {
      "text/plain": "\"[(['frontal', 'frontal'], [896, 1617]), (['frontotemporal', 'temporal'], [1241, 1639])]\""
     },
     "metadata": {},
     "execution_count": 100
    }
   ],
   "source": [
    "highlighted_information"
   ]
  },
  {
   "cell_type": "code",
   "execution_count": 101,
   "metadata": {
    "tags": []
   },
   "outputs": [
    {
     "output_type": "stream",
     "name": "stdout",
     "text": "CLINICAL HISTORY: This is a 3-month-old infant born at seven months with a birth weight of 1 lb., 14 oz., now with seizures characterized by tremulousness of the body and eyes with funny sounds lasting two to five seconds occurring twice this week.  Pre-term 28-weeker.\nMEDICATIONS: Phenobarbital.\nINTRODUCTION: Digital video EEG is performed at the bedside using standard 10-20 system of electrode placement with one channel of EKG. This is an awake and drowsy record.\nDESCRIPTION OF THE RECORD: As the tracing opens, the child is sucking.  The background EEG is somewhat lower voltage than anticipated for an infant of this age.  There is some head rocking artifact and there is some sucking artifact.  There are occasional voltage asymmetries with higher voltage from the left compared to the right.  There is an occasional T6 sharp wave identified in the record, as well as one in the right frontal region.  There is clear variability and when the child is motorically active, the EEG is richer in theta frequency activity.  Some sections of the record show a more synchronous pattern with a more equal distribution of rhythmic theta and delta.  Other sections seem to suggest an attenuation from the right hemisphere, particularly the frontotemporal region.  There is no indication that the child had any neurosurgical procedures.\nHR:  168 BPM.\nIMPRESSION: This EEG must be considered abnormal for an infant of this age due to:\nIntermittent asymmetry with relative attenuation of the activity from the right compared to the left.\nOccasional sharp waves identified from the right hemisphere, particularly in the frontal and posterior temporal regions.\nCLINICAL CORRELATION: The overall background is lower amplitude than one might anticipate for an infant of this age, but this EEG raises concerns regarding a structural or functional abnormality and potentially a partial mechanism for seizures.\n"
    }
   ],
   "source": [
    "report, highlighted_information, neutral_tags_list = report_select[\"Patient_report\"], report_select[\"Highlighted_data\"], neutral_tags_list\n",
    "\n",
    "print(report)\n",
    "#try :\n",
    "# Initialization and parameters\n",
    "# Creating a dataset of the elements to highlight\n",
    "df_highlighted_batch = pd.DataFrame(columns=['word','coordinates'])\n",
    "\n",
    "for highlighted_info in ast.literal_eval(highlighted_information):\n",
    "    words = highlighted_info[0]\n",
    "    index = highlighted_info[1]\n",
    "    for i in range(len(words)):\n",
    "        df_highlighted_batch = df_highlighted_batch.append({'word':words[i], 'coordinates':index[i]}, ignore_index=True)\n",
    "df_highlighted_batch.sort_values(by=\"coordinates\", inplace=True) # for highlighting in order of position"
   ]
  },
  {
   "cell_type": "code",
   "execution_count": 102,
   "metadata": {},
   "outputs": [],
   "source": [
    "temp = df_highlighted_batch['word'].unique()"
   ]
  },
  {
   "cell_type": "code",
   "execution_count": 103,
   "metadata": {},
   "outputs": [],
   "source": [
    "temp.sort()"
   ]
  },
  {
   "cell_type": "code",
   "execution_count": 104,
   "metadata": {},
   "outputs": [
    {
     "output_type": "execute_result",
     "data": {
      "text/plain": "array(['frontal', 'frontotemporal', 'temporal'], dtype=object)"
     },
     "metadata": {},
     "execution_count": 104
    }
   ],
   "source": [
    "temp"
   ]
  },
  {
   "cell_type": "code",
   "execution_count": 110,
   "metadata": {
    "tags": []
   },
   "outputs": [
    {
     "output_type": "stream",
     "name": "stdout",
     "text": "CLINICAL HISTORY: This is a 3-month-old infant born at seven months with a birth weight of 1 lb., 14 oz., now with <span style=\"background-color: #00ecff; font-weight: 500;\">seizure</span>s characterized by tremulousness of the body and eyes with funny sounds lasting two to five seconds occurring twice this week.  Pre-term 28-weeker.<br>MEDICATIONS: Phenobarbital.<br>INTRODUCTION: Digital video EEG is performed at the bedside using standard 10-20 system of electrode placement with one channel of EKG. This is an awake and drowsy record.<br>DESCRIPTION OF THE RECORD: As the <span style=\"background-color: #00ecff; font-weight: 500;\">tracing </span>opens, the child is sucking.  The background EEG is somewhat lower voltage than anticipated for an infant of this age.  There is some head rocking artifact and there is some sucking artifact.  There are occasional voltage asymmetries with higher voltage from the left compared to the right.  There is an occasional T6 sharp wave identified in the record, as well as one in the right frontal region.  There is clear variability and when the child is motorically active, the EEG is richer in theta frequency activity.  Some sections of the record show a more synchronous pattern with a more equal distribution of rhythmic theta and delta.  Other sections seem to suggest an attenuation from the right <span style=\"background-color: #00ecff; font-weight: 500;\">hemisphere</span>, particularly the frontotemporal region.  There is no indication that the child had any neurosurgical procedures.<br>HR:  168 BPM.<br>IMPRESSION: This EEG must be considered abnormal for an infant of this age due to:<br>Intermittent asymmetry with relative attenuation of the activity from the right compared to the left.<br>Occasional sharp waves identified from the right <span style=\"background-color: #00ecff; font-weight: 500;\">hemisphere</span>, particularly in the frontal and posterior temporal regions.<br>CLINICAL CORRELATION: The overall background is lower amplitude than one might anticipate for an infant of this age, but this EEG raises concerns regarding a structural or functional abnormality and potentially a partial mechanism for <span style=\"background-color: #00ecff; font-weight: 500;\">seizure</span>s..\n"
    }
   ],
   "source": [
    "\n",
    "\n",
    "\n",
    "\n",
    "# Updating the report\n",
    "#for i in range(df_highlighted_batch.shape[0]):\n",
    "    #   word = df_highlighted_batch['word'].iloc[i]\n",
    "    #  index = df_highlighted_batch['coordinates'].iloc[i]\n",
    "\n",
    "    #   decorate_word = html_decorate_text(word, background_color=\"#FFFF00\")\n",
    "    #   report = report[:index + shift] + decorate_word + report[len(report[:index + shift] + word):]\n",
    "    #   shift += len(decorate_word) - len(word)\n",
    "#for i in range(n):\n",
    " #   word = df_highlighted_batch['word'].iloc[n-i-1]\n",
    "  #  index = df_highlighted_batch['coordinates'].iloc[n-i-1]\n",
    "#\n",
    " #   decorate_word = html_decorate_text(word, background_color=\"#FFFF00\")\n",
    "  #  report = report[:index] + decorate_word + report[len(report[:index+2] + word):]\n",
    "\n",
    "\n",
    "    # changing for regex\n",
    "word_list =  df_highlighted_batch['word'].unique()\n",
    "word_list.sort()    \n",
    "for word in word_list:\n",
    "    decorate_word = html_decorate_text(word, background_color=\"#FFFF00\")\n",
    "    report = re.sub(str('/^'+word+'/$'), decorate_word, report)  \n",
    "\n",
    "\n",
    "# Keep newline in the markdown report\n",
    "report = re.sub(\"\\n\", \"<br>\", report)\n",
    "report = bolded_tagged_sentenced(report)\n",
    "report = neutral_tags_addition(report, neutral_tags_list)\n",
    "\n",
    "print(report)"
   ]
  },
  {
   "cell_type": "code",
   "execution_count": 39,
   "metadata": {},
   "outputs": [],
   "source": []
  },
  {
   "cell_type": "code",
   "execution_count": 40,
   "metadata": {
    "tags": []
   },
   "outputs": [
    {
     "output_type": "stream",
     "name": "stdout",
     "text": "CLINICAL HISTORY:  38 year old right handed female with <span style=\"background-color: #00ecff; font-weight: 500;\">seizure</span>s since she was 3 years of age, now with increased <span style=\"background-color: #00ecff; font-weight: 500;\">seizure</span> frequency, here for presurgical evaluation.<br><br>MEDICATIONS:  Lorazepam, Keppra, Oxcarbazepine, Lyrica, Zonisamide.**<br><br>REASON FOR STUDY:  Seizures<br><br>INTRODUCTION: Digital video EEG was performed in lab using standard 10-20 electrode placement system with additional anterio<span style=\"background-color: #FFFF00; font-weight: 500;\">temporal</span>al and single-lead EKG electrodes**.  The patient was recorded in wakefulness and sleep.  Activating procedures were performed including hyperventilation and photic stimulation.<br><br>TECHNICAL DIFFICULTIES:  None.<br><br>DESCRIPTION OF THE RECORD:  The record opens to a well-defined posterior dominant rhythm of 9 to 10 Hz, which is seen on both sides and is reactive to eye opening.**  There is a normal amount<span style=\"background-color: #FFFF00; font-weight: 500;\">frontocentral</span>tral beta**.  The patient is recorded in wakefulness and stage I and stage II sleep.  Activating procedure produce no abnormal discharges.<br><br>ABNORMAL DISCHARGES:<br>1. Focal sharp waves seen at F7/T3, very frequently, and rarely at F8/T4.<br>2. Focal slow waves seen at F7/T3 at 2 to 4 Hz with an amplitude of 20 to 70 microvolts.**  At times they become rhythmic and are consistent <span style=\"background-color: #FFFF00; font-weight: 500;\">temporal</span>poral intermittent rhythmic delta activity (TIRDA)**.  Additionally, there are some focal slow waves infrequently seen at F8/T4 at 2 to 4 Hz at an amplitude of 20 to 70 microvolts.<br><br>IMPRESSION:  Abnormal EEG due to:<br>1.**  Frequent left ant<span style=\"background-color: #FFFF00; font-weight: 500;\">temporal</span>mporal sharp waves and slow waves with rare right anterior temporal sharp waves and slow waves**.**<br><br>CLINICAL CORRELATION:  This EEG is consistent with a diagnosis of localization related epilepsy with <span style=\"background-color: #00ecff; font-weight: 500;\">seizure</span>s likely arising from either an<span style=\"background-color: #FFFF00; font-weight: 500;\">temporal</span>yle=\"background-color: #FFFF00; font-weight: 500;\">temporal</span>emporal lobe**.  No <span style=\"background-color: #00ecff; font-weight: 500;\">seizure</span>s were seen during this recording..\n"
    }
   ],
   "source": [
    "print(report)"
   ]
  },
  {
   "cell_type": "code",
   "execution_count": null,
   "metadata": {},
   "outputs": [],
   "source": []
  }
 ]
}