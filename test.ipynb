{
 "metadata": {
  "language_info": {
   "codemirror_mode": {
    "name": "ipython",
    "version": 3
   },
   "file_extension": ".py",
   "mimetype": "text/x-python",
   "name": "python",
   "nbconvert_exporter": "python",
   "pygments_lexer": "ipython3",
   "version": 3
  },
  "orig_nbformat": 2,
  "kernelspec": {
   "name": "python_defaultSpec_1595513588677",
   "display_name": "Python 3.8.3 64-bit ('datascience': conda)"
  }
 },
 "nbformat": 4,
 "nbformat_minor": 2,
 "cells": [
  {
   "cell_type": "code",
   "execution_count": 2,
   "metadata": {},
   "outputs": [],
   "source": [
    "import streamlit as st\n",
    "import pandas as pd\n",
    "import numpy as np\n",
    "import ast\n",
    "\n",
    "st.title('Report classification helper')\n",
    "\n",
    "def load_data():\n",
    "    data = pd.read_csv('0. Data/classification_dataset_hashtag_sample.csv', sep=\";\")\n",
    "    return data\n"
   ]
  },
  {
   "cell_type": "code",
   "execution_count": 4,
   "metadata": {
    "tags": []
   },
   "outputs": [
    {
     "output_type": "stream",
     "name": "stdout",
     "text": "<span style=\"background-color: #ff5733\">LENGTH OF THE RECORDING</span>: 22  ***minutes*** and 53 <em>seconds</em> CLINICAL HISTORY: The patient is a 27-year-old man with past medical history of cognitive delay, mitochondrial disorder, seizure disorder. The patient was brought to the emergency room with multiple witnessed seizures. MEDICATIONS: Ativan, Dilantin, clonazepam, chlorpromazine, amlodipine. INTRODUCTION: Digital video EEG is performed in the lab/bedside using standard 10-20 system of electrode placement with one channel of EKG. Hyperventilation and photic stimulation are performed. DESCRIPTION OF THE RECORD: During maximal wakefulness there are periods of fragmented moderate amplitude 9 Hz alpha activity with preserved anterior-to-posterior frequency amplitude gradient. The majority of the background, however, consists of low amplitude fast activity admixed with polymorphic frequently sharply contoured central theta and delta activity. Additionally, up to 20 second runs of sharply contoured frontocentral theta activity without spatial or temporal evolution are captured. These runs are not ictal in etiology. Occasional moderate amplitude isolated diffuse frontally predominant sharply contoured slow waves without clear spike waves or sharp waves are captured. A good example of such waveform occurs at 09:59:50 a.m. On a single occasion at 10:01:20 a.m., such discharge is correlated with a brief generalized body jerk. There is a continuous diffuse EKG artifact. No hyperventilation or photic stimulation are captured. There is no normal sleep architecture captured. FINDINGS: 1. Mild diffuse slowing. 2. Runs of non-evolving frontocentral theta activity. 3. Isolated diffuse frontally predominant slow waves that on a single occasion correlates with the generalized body jerks. IMPRESSION: This is a very abnormal EEG due to mild diffuse slowing, runs of sharply contoured bifrontocentral activity and occasional diffuse waveforms without clearly formed sharp waveforms that on a single occasion are associated with brief generalized body jerks. This EEG supports a bihemispheric diffuse disturbance of cerebral dysfunction. No clear electrographic seizures are captured.\n"
    }
   ],
   "source": [
    "\n",
    "data = load_data()\n",
    "\n",
    "\n",
    "def create_markdown(index, data):\n",
    "    list_of_colors = []\n",
    "    report = data['report'].iloc[index]\n",
    "    surline_data = data['surline_data'].iloc[index]\n",
    "    surline_data_list = ast.literal_eval(surline_data)\n",
    "    start_tag = '<span style=\"background-color: #FFFF00\">'\n",
    "    end_tag = '</span>'\n",
    "    shift = 0\n",
    "\n",
    "\n",
    "\n",
    "filepaths = data.index\n",
    "\n",
    "st.subheader('Select index')\n",
    "filepath_filter = st.selectbox('filepath',filepaths)\n",
    "\n",
    "# Filters\n",
    "filtered_data = data[data.index == filepath_filter]\n",
    "filtererd_report = filtered_data['report'].iloc[0]\n",
    "filtererd_hashtags = filtered_data['hashtag'].iloc[0]\n",
    "filtererd_crisis_type = filtered_data['crisis_type'].iloc[0]\n",
    "rich_text = '<span style=\"background-color: #ff5733\">LENGTH OF THE RECORDING</span>: 22  ***minutes*** and 53 <em>seconds</em> CLINICAL HISTORY: The patient is a 27-year-old man with past medical history of cognitive delay, mitochondrial disorder, seizure disorder. The patient was brought to the emergency room with multiple witnessed seizures. MEDICATIONS: Ativan, Dilantin, clonazepam, chlorpromazine, amlodipine. INTRODUCTION: Digital video EEG is performed in the lab/bedside using standard 10-20 system of electrode placement with one channel of EKG. Hyperventilation and photic stimulation are performed. DESCRIPTION OF THE RECORD: During maximal wakefulness there are periods of fragmented moderate amplitude 9 Hz alpha activity with preserved anterior-to-posterior frequency amplitude gradient. The majority of the background, however, consists of low amplitude fast activity admixed with polymorphic frequently sharply contoured central theta and delta activity. Additionally, up to 20 second runs of sharply contoured frontocentral theta activity without spatial or temporal evolution are captured. These runs are not ictal in etiology. Occasional moderate amplitude isolated diffuse frontally predominant sharply contoured slow waves without clear spike waves or sharp waves are captured. A good example of such waveform occurs at 09:59:50 a.m. On a single occasion at 10:01:20 a.m., such discharge is correlated with a brief generalized body jerk. There is a continuous diffuse EKG artifact. No hyperventilation or photic stimulation are captured. There is no normal sleep architecture captured. FINDINGS: 1. Mild diffuse slowing. 2. Runs of non-evolving frontocentral theta activity. 3. Isolated diffuse frontally predominant slow waves that on a single occasion correlates with the generalized body jerks. IMPRESSION: This is a very abnormal EEG due to mild diffuse slowing, runs of sharply contoured bifrontocentral activity and occasional diffuse waveforms without clearly formed sharp waveforms that on a single occasion are associated with brief generalized body jerks. This EEG supports a bihemispheric diffuse disturbance of cerebral dysfunction. No clear electrographic seizures are captured.'\n",
    "#rich_text = '<span style=\"background-color: #FFFF00\">This text is highlighted in yellow.</span>'\n",
    "\n",
    "st.subheader('test rich text')\n",
    "st.markdown(rich_text, unsafe_allow_html=True)\n",
    "print(rich_text)"
   ]
  },
  {
   "cell_type": "code",
   "execution_count": 6,
   "metadata": {},
   "outputs": [],
   "source": [
    "index=1\n",
    "report = data['report'].iloc[index]\n",
    "surline_data = data['surline_data'].iloc[index]\n",
    "surline_data_list = ast.literal_eval(surline_data)"
   ]
  },
  {
   "cell_type": "code",
   "execution_count": 26,
   "metadata": {
    "tags": []
   },
   "outputs": [
    {
     "output_type": "stream",
     "name": "stdout",
     "text": "[(['central', 'frontocentral', 'frontocentral'], [872, 963, 1609]), (['frontally', 'frontally'], [1131, 1659]), (['temporal'], [1011])]\ncentral 872\nfrontocentral 963\nfrontocentral 1609\nfrontally 1131\nfrontally 1659\ntemporal 1011\n"
    }
   ],
   "source": [
    "# sorting the elements for autotagging\n",
    "surline_data_list = ast.literal_eval(surline_data)\n",
    "print(surline_data_list)\n",
    "for list_1 in surline_data_list:\n",
    "    words = list_1[0]\n",
    "    index = list_1[1]\n",
    "    for i in range(len(words)):\n",
    "        print(words[i], index[i])"
   ]
  },
  {
   "cell_type": "code",
   "execution_count": 10,
   "metadata": {},
   "outputs": [
    {
     "output_type": "execute_result",
     "data": {
      "text/plain": "3"
     },
     "metadata": {},
     "execution_count": 10
    }
   ],
   "source": [
    "len(surline_data_list)"
   ]
  },
  {
   "cell_type": "code",
   "execution_count": null,
   "metadata": {},
   "outputs": [],
   "source": []
  }
 ]
}